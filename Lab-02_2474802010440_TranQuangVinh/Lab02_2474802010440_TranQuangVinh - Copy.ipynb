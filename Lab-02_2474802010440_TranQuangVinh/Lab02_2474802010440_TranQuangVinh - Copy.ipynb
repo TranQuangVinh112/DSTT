{
  "nbformat": 4,
  "nbformat_minor": 0,
  "metadata": {
    "colab": {
      "provenance": []
    },
    "kernelspec": {
      "name": "python3",
      "display_name": "Python 3"
    },
    "language_info": {
      "name": "python"
    }
  },
  "cells": [
    {
      "cell_type": "markdown",
      "source": [
        "[link text](https://)"
      ],
      "metadata": {
        "id": "iU_UxnmDcxmc"
      }
    },
    {
      "cell_type": "markdown",
      "source": [],
      "metadata": {
        "id": "40f_jFaJc1cz"
      }
    },
    {
      "cell_type": "markdown",
      "source": [],
      "metadata": {
        "id": "1Mw6hOPYcjQu"
      }
    },
    {
      "cell_type": "code",
      "source": [
        "#Bai1:\n",
        "def scale(a, v):\n",
        " return [a*vi for vi in v]\n",
        "v = [3,5,7]\n",
        "print(scale(10, v))\n",
        "def sumvector(v, w):\n",
        " return [vi+wi for (vi, wi) in zip(v, w)]\n",
        "v = [3,5,7]\n",
        "w = [2,4,6]\n",
        "print(sumvector(v, w))\n",
        "def dotvector(v, w):\n",
        " return sum([vi*wi for (vi, wi) in zip(v, w)])\n",
        "print(dotvector(v, w))\n",
        "def lenvector(v):\n",
        " return dotvector(v,v)\n",
        "print(lenvector(w))\n"
      ],
      "metadata": {
        "colab": {
          "base_uri": "https://localhost:8080/"
        },
        "id": "pSAezTPqVaWx",
        "outputId": "82ff64da-8b40-4119-ba43-54e8bf2f7da6"
      },
      "execution_count": null,
      "outputs": [
        {
          "output_type": "stream",
          "name": "stdout",
          "text": [
            "[30, 50, 70]\n",
            "[5, 9, 13]\n",
            "68\n",
            "56\n"
          ]
        }
      ]
    },
    {
      "cell_type": "markdown",
      "source": [],
      "metadata": {
        "id": "WlkMFN3uchzf"
      }
    },
    {
      "cell_type": "code",
      "source": [
        "#Bai2:\n",
        "import numpy as np\n",
        "scores = np.array([-1, 1, 2, -3, 5, -4])\n",
        "print(np.select([scores >= 0, scores < 0], ['so duong', 'so am'], default=''))\n",
        "scores = np.array([-1, 1, 2, 0, -3, 5, 0, -4])\n",
        "print(np.select([scores > 0, scores == 0, scores < 0], ['so duong', 'so 0', 'so am'], default=''))"
      ],
      "metadata": {
        "colab": {
          "base_uri": "https://localhost:8080/"
        },
        "id": "ozZZLncbevLr",
        "outputId": "f7659446-1677-4c4e-b4e2-33367350921a"
      },
      "execution_count": null,
      "outputs": [
        {
          "output_type": "stream",
          "name": "stdout",
          "text": [
            "['so am' 'so duong' 'so duong' 'so am' 'so duong' 'so am']\n",
            "['so am' 'so duong' 'so duong' 'so 0' 'so am' 'so duong' 'so 0' 'so am']\n"
          ]
        }
      ]
    },
    {
      "cell_type": "code",
      "source": [
        "#Bai3:\n",
        "#3.1:\n",
        "import numpy as np\n",
        "from scipy import linalg, sparse\n",
        "# 2\n",
        "D = np.asmatrix([[3, 4], [5, 6]])\n",
        "print(D)\n",
        "# 3\n",
        "C = np.asmatrix(np.random.random((5, 7)))\n",
        "print(C)\n",
        "\n",
        "# 4\n",
        "A = np.asmatrix(np.random.random((2, 2)))\n",
        "print(A)\n",
        "# 5\n",
        "b = np.array([(1 + 5j, 2j, 3j), (4, 5, 6)])\n",
        "B = np.asmatrix(b)\n",
        "print(b)\n",
        "print(B)\n",
        "# 6\n",
        "print(A.T)\n",
        "# 7\n",
        "print(A.I)\n",
        "print(linalg.inv(A))\n",
        "# 8\n",
        "M = np.array([[-1, 3, 2], [0, -2, 1], [1, 5, -2]])\n",
        "M_lower = np.tril(M)\n",
        "print(M_lower)\n",
        "# 9\n",
        "M_upper = np.triu(M)\n",
        "print(M_upper)\n",
        "# 10\n",
        "v_diag = np.diag(M)\n",
        "print(v_diag)\n",
        "M_diag = np.diag(v_diag)\n",
        "print(M_diag)"
      ],
      "metadata": {
        "colab": {
          "base_uri": "https://localhost:8080/"
        },
        "id": "Qewzupl8goYx",
        "outputId": "b31f4fb3-a31c-47a9-a98a-af77f40f5de9"
      },
      "execution_count": null,
      "outputs": [
        {
          "output_type": "stream",
          "name": "stdout",
          "text": [
            "[[3 4]\n",
            " [5 6]]\n",
            "[[0.55413326 0.87716722 0.01509562 0.19195871 0.70325486 0.30573007\n",
            "  0.95736472]\n",
            " [0.78289977 0.96779726 0.78347797 0.85138094 0.93885269 0.4859564\n",
            "  0.88639728]\n",
            " [0.73686286 0.41950494 0.54537931 0.91792671 0.18436155 0.56973892\n",
            "  0.71964936]\n",
            " [0.16239293 0.35921541 0.04710927 0.40655945 0.22265643 0.11617501\n",
            "  0.12137645]\n",
            " [0.43375572 0.04934332 0.64037212 0.09168932 0.05772463 0.70146778\n",
            "  0.30164176]]\n",
            "[[0.10424474 0.76281741]\n",
            " [0.31972494 0.0612675 ]]\n",
            "[[1.+5.j 0.+2.j 0.+3.j]\n",
            " [4.+0.j 5.+0.j 6.+0.j]]\n",
            "[[1.+5.j 0.+2.j 0.+3.j]\n",
            " [4.+0.j 5.+0.j 6.+0.j]]\n",
            "[[0.10424474 0.31972494]\n",
            " [0.76281741 0.0612675 ]]\n",
            "[[-0.25796305  3.21179598]\n",
            " [ 1.34618229 -0.4389161 ]]\n",
            "[[-0.25796305  3.21179598]\n",
            " [ 1.34618229 -0.4389161 ]]\n",
            "[[-1  0  0]\n",
            " [ 0 -2  0]\n",
            " [ 1  5 -2]]\n",
            "[[-1  3  2]\n",
            " [ 0 -2  1]\n",
            " [ 0  0 -2]]\n",
            "[-1 -2 -2]\n",
            "[[-1  0  0]\n",
            " [ 0 -2  0]\n",
            " [ 0  0 -2]]\n"
          ]
        }
      ]
    },
    {
      "cell_type": "code",
      "source": [
        "#Bài 3.2\n",
        "import numpy as np\n",
        "\n",
        "A = np.reshape(np.arange(36.0), (6, 6))\n",
        "print(A)\n",
        "\n",
        "I6 = np.identity(6)\n",
        "print(I6)\n",
        "\n",
        "print(A.size)\n",
        "print(A.diagonal())\n",
        "\n",
        "A = A + I6\n",
        "print(A)\n",
        "\n",
        "vecB = np.array([1., 2., 3., 4., 5., 6.])\n",
        "C = A.dot(vecB)\n",
        "print(C)\n",
        "\n",
        "D = np.array([\n",
        "    [1., 2., 3., 4., 5., 6.],\n",
        "    [1., 0., 1., 0., 1., 0.]\n",
        "])\n",
        "print(D)\n",
        "\n",
        "E = A.dot(D.T)\n",
        "print(E)\n",
        "\n",
        "F = np.array([\n",
        "    [1., 1.],\n",
        "    [2., 0.],\n",
        "    [3., 1.],\n",
        "    [4., 0.],\n",
        "    [5., 1.],\n",
        "    [6., 0.]\n",
        "])\n",
        "print(F)\n",
        "\n",
        "G = A.dot(F)\n",
        "print(G)\n",
        "\n",
        "invA = np.linalg.inv(A)\n",
        "print(invA)\n",
        "\n",
        "inv_inv_A = np.linalg.inv(invA)\n",
        "print(inv_inv_A)\n"
      ],
      "metadata": {
        "colab": {
          "base_uri": "https://localhost:8080/"
        },
        "id": "QXStCdKySZgn",
        "outputId": "7c45df39-2386-44dd-83bc-9e3b5b53abfc"
      },
      "execution_count": 1,
      "outputs": [
        {
          "output_type": "stream",
          "name": "stdout",
          "text": [
            "[[ 0.  1.  2.  3.  4.  5.]\n",
            " [ 6.  7.  8.  9. 10. 11.]\n",
            " [12. 13. 14. 15. 16. 17.]\n",
            " [18. 19. 20. 21. 22. 23.]\n",
            " [24. 25. 26. 27. 28. 29.]\n",
            " [30. 31. 32. 33. 34. 35.]]\n",
            "[[1. 0. 0. 0. 0. 0.]\n",
            " [0. 1. 0. 0. 0. 0.]\n",
            " [0. 0. 1. 0. 0. 0.]\n",
            " [0. 0. 0. 1. 0. 0.]\n",
            " [0. 0. 0. 0. 1. 0.]\n",
            " [0. 0. 0. 0. 0. 1.]]\n",
            "36\n",
            "[ 0.  7. 14. 21. 28. 35.]\n",
            "[[ 1.  1.  2.  3.  4.  5.]\n",
            " [ 6.  8.  8.  9. 10. 11.]\n",
            " [12. 13. 15. 15. 16. 17.]\n",
            " [18. 19. 20. 22. 22. 23.]\n",
            " [24. 25. 26. 27. 29. 29.]\n",
            " [30. 31. 32. 33. 34. 36.]]\n",
            "[ 71. 198. 325. 452. 579. 706.]\n",
            "[[1. 2. 3. 4. 5. 6.]\n",
            " [1. 0. 1. 0. 1. 0.]]\n",
            "[[ 71.   7.]\n",
            " [198.  24.]\n",
            " [325.  43.]\n",
            " [452.  60.]\n",
            " [579.  79.]\n",
            " [706.  96.]]\n",
            "[[1. 1.]\n",
            " [2. 0.]\n",
            " [3. 1.]\n",
            " [4. 0.]\n",
            " [5. 1.]\n",
            " [6. 0.]]\n",
            "[[ 71.   7.]\n",
            " [198.  24.]\n",
            " [325.  43.]\n",
            " [452.  60.]\n",
            " [579.  79.]\n",
            " [706.  96.]]\n",
            "[[ 0.37022901 -0.45610687 -0.28244275 -0.10877863  0.0648855   0.23854962]\n",
            " [-0.44656489  0.65839695 -0.23664122 -0.13167939 -0.02671756  0.07824427]\n",
            " [-0.26335878 -0.22709924  0.80916031 -0.15458015 -0.11832061 -0.08206107]\n",
            " [-0.08015267 -0.11259542 -0.14503817  0.82251908 -0.20992366 -0.24236641]\n",
            " [ 0.10305344  0.0019084  -0.09923664 -0.20038168  0.69847328 -0.40267176]\n",
            " [ 0.28625954  0.11641221 -0.05343511 -0.22328244 -0.39312977  0.4370229 ]]\n",
            "[[ 1.  1.  2.  3.  4.  5.]\n",
            " [ 6.  8.  8.  9. 10. 11.]\n",
            " [12. 13. 15. 15. 16. 17.]\n",
            " [18. 19. 20. 22. 22. 23.]\n",
            " [24. 25. 26. 27. 29. 29.]\n",
            " [30. 31. 32. 33. 34. 36.]]\n"
          ]
        }
      ]
    },
    {
      "cell_type": "code",
      "source": [
        "#Bài 4:\n",
        "import numpy as np\n",
        "\n",
        "A = np.array([[1, 1], [1, 0]])\n",
        "b = np.array([1, 0])\n",
        "n = 10\n",
        "\n",
        "for i in range(n):\n",
        "    b = A.dot(b)\n",
        "    print(b)\n"
      ],
      "metadata": {
        "colab": {
          "base_uri": "https://localhost:8080/"
        },
        "id": "23DC_mvEUJnq",
        "outputId": "1e2c3f3c-b33b-4dd1-ed1e-232be2add123"
      },
      "execution_count": 2,
      "outputs": [
        {
          "output_type": "stream",
          "name": "stdout",
          "text": [
            "[1 1]\n",
            "[2 1]\n",
            "[3 2]\n",
            "[5 3]\n",
            "[8 5]\n",
            "[13  8]\n",
            "[21 13]\n",
            "[34 21]\n",
            "[55 34]\n",
            "[89 55]\n"
          ]
        }
      ]
    },
    {
      "cell_type": "code",
      "source": [
        "#Bài 5:\n",
        "import sympy as sp\n",
        "from sympy import Symbol, solve\n",
        "\n",
        "x1 = Symbol('x1')\n",
        "x2 = Symbol('x2')\n",
        "x3 = Symbol('x3')\n",
        "x4 = Symbol('x4')\n",
        "\n",
        "pt1 = x4 + 610 - 450 - x1\n",
        "pt2 = x1 + 400 - x2 - 640\n",
        "pt3 = x2 + 600 - x3\n",
        "pt4 = x3 - x4 - 520\n",
        "\n",
        "nghiem = sp.solve((pt1, pt2, pt3, pt4))\n",
        "print(nghiem)"
      ],
      "metadata": {
        "colab": {
          "base_uri": "https://localhost:8080/"
        },
        "id": "QabmjGGxUJl-",
        "outputId": "13a83763-80d6-4e4f-ce46-74bfb2ad00e9"
      },
      "execution_count": 7,
      "outputs": [
        {
          "output_type": "stream",
          "name": "stdout",
          "text": [
            "{x1: x4 + 160, x2: x4 - 80, x3: x4 + 520}\n"
          ]
        }
      ]
    },
    {
      "cell_type": "markdown",
      "source": [
        "# **Bài Tập Chương **"
      ],
      "metadata": {
        "id": "o8lJ1fEDVvJt"
      }
    },
    {
      "cell_type": "code",
      "source": [
        "#Câu 1:\n",
        "#1\n",
        "import numpy as np\n",
        "\n",
        "A1 = np.array([[1, -1], [2, 3]])\n",
        "b1 = np.array([-2, 6])\n",
        "\n",
        "x1 = np.linalg.solve(A1, b1)\n",
        "print(x1)\n",
        "#2\n",
        "A2 = np.array([[1, -1, 0], [2, -1, -1], [1, 1, 1]])\n",
        "b2 = np.array([2, 3, 6])\n",
        "\n",
        "x2 = np.linalg.solve(A2, b2)\n",
        "print(x2)\n",
        "#3\n",
        "A3 = np.array([[1, 1, 1], [4, 2, 1], [9, 3, 1]])\n",
        "b3 = np.array([4, 3, 4])\n",
        "\n",
        "x3 = np.linalg.solve(A3, b3)\n",
        "print(x3)\n",
        "#4\n",
        "A4 = np.array([[1, 0, 1], [1, -2, 1], [-2, 2, 0]])\n",
        "b4 = np.array([1, -3, 0])\n",
        "\n",
        "x4 = np.linalg.solve(A4, b4)\n",
        "print(x4)\n",
        "\n",
        "\n"
      ],
      "metadata": {
        "colab": {
          "base_uri": "https://localhost:8080/"
        },
        "id": "xCp4cAENVI2t",
        "outputId": "ef437c5d-dea5-4b62-b6ba-966dc3f78e60"
      },
      "execution_count": 10,
      "outputs": [
        {
          "output_type": "stream",
          "name": "stdout",
          "text": [
            "[0. 2.]\n",
            "[3. 1. 2.]\n",
            "[ 1. -4.  7.]\n",
            "[ 2.  2. -1.]\n"
          ]
        }
      ]
    },
    {
      "cell_type": "code",
      "source": [
        "#câu 2:\n",
        "#1\n",
        "import sympy as sp\n",
        "\n",
        "x, y = sp.symbols('x y')\n",
        "\n",
        "eq1 = x - y + 2\n",
        "eq2 = 2*x + 3*y - 6\n",
        "\n",
        "sol1 = sp.solve((eq1, eq2), (x, y))\n",
        "print(sol1)\n",
        "#2\n",
        "x, y, z = sp.symbols('x y z')\n",
        "\n",
        "eq1 = x - y - 2\n",
        "eq2 = 2*x - y - z - 3\n",
        "eq3 = x + y + z - 6\n",
        "\n",
        "sol2 = sp.solve((eq1, eq2, eq3), (x, y, z))\n",
        "print(sol2)\n",
        "#3\n",
        "a, b, c = sp.symbols('a b c')\n",
        "\n",
        "eq1 = a + b + c - 4\n",
        "eq2 = 4*a + 2*b + c - 3\n",
        "eq3 = 9*a + 3*b + c - 4\n",
        "\n",
        "sol3 = sp.solve((eq1, eq2, eq3), (a, b, c))\n",
        "print(sol3)\n",
        "#4\n",
        "a, b, c = sp.symbols('a b c')\n",
        "\n",
        "eq1 = a + c - 1\n",
        "eq2 = a + b - 2*c + 3\n",
        "eq3 = -2*a + 2*b + c\n",
        "\n",
        "sol4 = sp.solve((eq1, eq2, eq3), (a, b, c))\n",
        "print(sol4)\n"
      ],
      "metadata": {
        "colab": {
          "base_uri": "https://localhost:8080/"
        },
        "id": "NHBxKaljWdk6",
        "outputId": "948a111d-b5f5-4b1a-ac5a-96fd62f34234"
      },
      "execution_count": 11,
      "outputs": [
        {
          "output_type": "stream",
          "name": "stdout",
          "text": [
            "{x: 0, y: 2}\n",
            "{x: 3, y: 1, z: 2}\n",
            "{a: 1, b: -4, c: 7}\n",
            "{a: -1/9, b: -2/3, c: 10/9}\n"
          ]
        }
      ]
    },
    {
      "cell_type": "code",
      "source": [
        "#Câu 3:\n",
        "# SymPy\n",
        "from sympy import Matrix,symbols,simplify\n",
        "k=symbols('k',integer=True,positive=True)\n",
        "F=Matrix([[1,1],[1,0]])\n",
        "F_k=F**k\n",
        "print(\"Dạng tổng quát của F^k:\")\n",
        "display(F_k)\n",
        "\n",
        "#NumPy\n",
        "import numpy as np\n",
        "def fibonacci_matrix(k):\n",
        "    F=np.array([[1,1],[1,0]])\n",
        "    return np.linalg.matrix_power(F,k)\n",
        "k=5\n",
        "F_5=fibonacci_matrix(k)\n",
        "print(f\"\\nMa trận F^{k}:\")\n",
        "print(F_5)"
      ],
      "metadata": {
        "colab": {
          "base_uri": "https://localhost:8080/",
          "height": 186
        },
        "id": "-3jJ9lyCWdjN",
        "outputId": "bf083ffc-fc38-4bc2-9481-5e1ed5a7a2c6"
      },
      "execution_count": 12,
      "outputs": [
        {
          "output_type": "stream",
          "name": "stdout",
          "text": [
            "Dạng tổng quát của F^k:\n"
          ]
        },
        {
          "output_type": "display_data",
          "data": {
            "text/plain": [
              "Matrix([\n",
              "[-(-5 + sqrt(5))*(1/2 - sqrt(5)/2)**k/((-5 + 5*sqrt(5))*(1/2 + sqrt(5)/2)) - sqrt(5)*(1/2 + sqrt(5)/2)**k/(5*(1/2 - sqrt(5)/2)), -(1/2 - sqrt(5)/2)**k*(sqrt(5)/10 + 1/2)/(1/2 + sqrt(5)/2) - 2*sqrt(5)*(1/2 + sqrt(5)/2)**k/((1/2 - sqrt(5)/2)*(5 + 5*sqrt(5)))],\n",
              "[                                         (-5 + sqrt(5))*(1/2 - sqrt(5)/2)**k/(-5 + 5*sqrt(5)) + sqrt(5)*(1/2 + sqrt(5)/2)**k/5,                                        (1/2 - sqrt(5)/2)**k*(sqrt(5)/10 + 1/2) + 2*sqrt(5)*(1/2 + sqrt(5)/2)**k/(5 + 5*sqrt(5))]])"
            ],
            "text/latex": "$\\displaystyle \\left[\\begin{matrix}- \\frac{\\left(-5 + \\sqrt{5}\\right) \\left(\\frac{1}{2} - \\frac{\\sqrt{5}}{2}\\right)^{k}}{\\left(-5 + 5 \\sqrt{5}\\right) \\left(\\frac{1}{2} + \\frac{\\sqrt{5}}{2}\\right)} - \\frac{\\sqrt{5} \\left(\\frac{1}{2} + \\frac{\\sqrt{5}}{2}\\right)^{k}}{5 \\left(\\frac{1}{2} - \\frac{\\sqrt{5}}{2}\\right)} & - \\frac{\\left(\\frac{1}{2} - \\frac{\\sqrt{5}}{2}\\right)^{k} \\left(\\frac{\\sqrt{5}}{10} + \\frac{1}{2}\\right)}{\\frac{1}{2} + \\frac{\\sqrt{5}}{2}} - \\frac{2 \\sqrt{5} \\left(\\frac{1}{2} + \\frac{\\sqrt{5}}{2}\\right)^{k}}{\\left(\\frac{1}{2} - \\frac{\\sqrt{5}}{2}\\right) \\left(5 + 5 \\sqrt{5}\\right)}\\\\\\frac{\\left(-5 + \\sqrt{5}\\right) \\left(\\frac{1}{2} - \\frac{\\sqrt{5}}{2}\\right)^{k}}{-5 + 5 \\sqrt{5}} + \\frac{\\sqrt{5} \\left(\\frac{1}{2} + \\frac{\\sqrt{5}}{2}\\right)^{k}}{5} & \\left(\\frac{1}{2} - \\frac{\\sqrt{5}}{2}\\right)^{k} \\left(\\frac{\\sqrt{5}}{10} + \\frac{1}{2}\\right) + \\frac{2 \\sqrt{5} \\left(\\frac{1}{2} + \\frac{\\sqrt{5}}{2}\\right)^{k}}{5 + 5 \\sqrt{5}}\\end{matrix}\\right]$"
          },
          "metadata": {}
        },
        {
          "output_type": "stream",
          "name": "stdout",
          "text": [
            "\n",
            "Ma trận F^5:\n",
            "[[8 5]\n",
            " [5 3]]\n"
          ]
        }
      ]
    }
  ]
}