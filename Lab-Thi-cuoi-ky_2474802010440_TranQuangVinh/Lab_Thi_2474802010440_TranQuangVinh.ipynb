{
  "nbformat": 4,
  "nbformat_minor": 0,
  "metadata": {
    "colab": {
      "provenance": []
    },
    "kernelspec": {
      "name": "python3",
      "display_name": "Python 3"
    },
    "language_info": {
      "name": "python"
    }
  },
  "cells": [
    {
      "cell_type": "code",
      "execution_count": 1,
      "metadata": {
        "colab": {
          "base_uri": "https://localhost:8080/"
        },
        "id": "FPocgpZrkqaW",
        "outputId": "2b38984a-53a6-4e5d-fd1e-5eb0d828ad97"
      },
      "outputs": [
        {
          "output_type": "stream",
          "name": "stdout",
          "text": [
            "C1.a A + B = [2 3 1 6]\n",
            "C1.a 2A + 3B = [ 3 11  2 14]\n",
            "C1.b A · B = -5\n",
            "C1.b Góc giữa A và B = 99.594 độ\n",
            "C1.c C nhân Cᵀ =\n",
            " [[14 -8 13]\n",
            " [-8 21 -2]\n",
            " [13 -2 29]]\n"
          ]
        }
      ],
      "source": [
        "#Câu 1:\n",
        "#khai báo\n",
        "import numpy as np\n",
        "A, B = np.array([3, -2, 1, 4]), np.array([-1, 5, 0, 2])\n",
        "C = np.array([[2, -1, 3], [1, 4, -2], [0, 2, 5]])\n",
        "# a)\n",
        "print(\"C1.a A + B =\", A + B)\n",
        "print(\"C1.a 2A + 3B =\", 2*A + 3*B)\n",
        "# b)\n",
        "tich_vo_huong = np.dot(A, B)\n",
        "do_dai_A = np.linalg.norm(A)\n",
        "do_dai_B = np.linalg.norm(B)\n",
        "cos_goc = tich_vo_huong / (do_dai_A * do_dai_B)\n",
        "goc_do = round(np.degrees(np.arccos(cos_goc)), 3)\n",
        "print(\"C1.b A · B =\", tich_vo_huong)\n",
        "print(\"C1.b Góc giữa A và B =\", goc_do, \"độ\")\n",
        "# c)\n",
        "print(\"C1.c C nhân Cᵀ =\\n\", C @ C.T)\n"
      ]
    },
    {
      "cell_type": "code",
      "source": [
        "#Câu 2:\n",
        "#Khai báo\n",
        "M = np.array([[2, -1, 3, 0], [1, 4, -2, 5], [0, 2, 6, -3], [-1, 0, 1, 4]])\n",
        "N = np.array([[1, 3, -2, 0], [4, -1, 5, 2], [0, 2, 3, -1], [-3, 1, 0, 4]])\n",
        "# a)\n",
        "print(\"C2.a M × N =\\n\", M @ N)\n",
        "# b)\n",
        "print(\"C2.b Định thức M =\", np.linalg.det(M))\n",
        "# c)\n",
        "print(\"C2.c Hạng của N =\", np.linalg.matrix_rank(N))\n"
      ],
      "metadata": {
        "colab": {
          "base_uri": "https://localhost:8080/"
        },
        "id": "B9ObxWSNlc6Y",
        "outputId": "72f6178d-faca-477f-9cba-70e7adf0ab53"
      },
      "execution_count": 2,
      "outputs": [
        {
          "output_type": "stream",
          "name": "stdout",
          "text": [
            "C2.a M × N =\n",
            " [[ -2  13   0  -5]\n",
            " [  2   0  12  30]\n",
            " [ 17   7  28 -14]\n",
            " [-13   3   5  15]]\n",
            "C2.b Định thức M = 409.00000000000017\n",
            "C2.c Hạng của N = 4\n"
          ]
        }
      ]
    },
    {
      "cell_type": "code",
      "source": [
        "#Câu 3\n",
        "import numpy as np\n",
        "# Khai bá0\n",
        "P = np.array([[3, -1, 0, 2],\n",
        "              [1,  4, -2, 0],\n",
        "              [0,  1,  5, -1],\n",
        "              [2,  0,  1, 3]])\n",
        "b = np.array([6, 8, 3, 7])\n",
        "# a)\n",
        "if np.linalg.det(P) != 0:\n",
        "    P_inv = np.linalg.inv(P)\n",
        "    print(\"C3.a Nghịch đảo của P:\\n\", P_inv)\n",
        "else:\n",
        "    print(\"C3.a P không có nghịch đảo (det = 0)\")\n",
        "# b)\n",
        "if np.linalg.det(P) != 0:\n",
        "    x = np.linalg.solve(P, b)\n",
        "    print(\"C3.b Nghiệm x =\", x)\n",
        "else:\n",
        "    x = None\n",
        "    print(\"C3.b Không giải được vì P không khả nghịch\")\n",
        "# c)\n",
        "if x is not None:\n",
        "    print(\"C3.c P · x = \", P @ x)"
      ],
      "metadata": {
        "colab": {
          "base_uri": "https://localhost:8080/"
        },
        "id": "dv1_wwRSmcR2",
        "outputId": "cb9df140-d79a-4abc-d838-0ef0be00b511"
      },
      "execution_count": 7,
      "outputs": [
        {
          "output_type": "stream",
          "name": "stdout",
          "text": [
            "C3.a Nghịch đảo của P:\n",
            " [[ 0.5         0.1         0.1        -0.3       ]\n",
            " [-0.14285714  0.2         0.05714286  0.11428571]\n",
            " [-0.03571429 -0.05        0.16428571  0.07857143]\n",
            " [-0.32142857 -0.05       -0.12142857  0.50714286]]\n",
            "C3.b Nghiệm x = [2.         1.71428571 0.42857143 0.85714286]\n",
            "C3.c P · x =  [6. 8. 3. 7.]\n"
          ]
        }
      ]
    },
    {
      "cell_type": "code",
      "source": [
        "# Câu 4:\n",
        "Q = np.array([[5, -2, 1], [0, 3, -1], [2, 0, 4]])\n",
        "# a)\n",
        "gt_rieng = np.linalg.eigvals(Q)\n",
        "print(\"C4.a Giá trị riêng:\", gt_rieng)\n",
        "# b)\n",
        "vec_rieng = np.linalg.eig(Q)[1]\n",
        "print(\"C4.b Vector riêng:\\n\", vec_rieng)\n",
        "# c)\n",
        "vec_chuanhoa = np.array([v / np.linalg.norm(v) for v in vec_rieng.T])\n",
        "print(\"C4.c Vector riêng chuẩn hóa:\\n\", vec_chuanhoa)"
      ],
      "metadata": {
        "colab": {
          "base_uri": "https://localhost:8080/"
        },
        "id": "liZMqhmGng4_",
        "outputId": "e5ea9c5d-63d1-469e-862a-0f4e31e52be8"
      },
      "execution_count": 4,
      "outputs": [
        {
          "output_type": "stream",
          "name": "stdout",
          "text": [
            "C4.a Giá trị riêng: [6.3553014+0.j         2.8223493+1.07730381j 2.8223493-1.07730381j]\n",
            "C4.b Vector riêng:\n",
            " [[ 0.74846013+0.j         -0.37423006+0.34234215j -0.37423006-0.34234215j]\n",
            " [-0.18941773+0.j          0.09470887+0.57433055j  0.09470887-0.57433055j]\n",
            " [ 0.63555359+0.j          0.63555359+0.j          0.63555359-0.j        ]]\n",
            "C4.c Vector riêng chuẩn hóa:\n",
            " [[ 0.74846013+0.j         -0.18941773+0.j          0.63555359+0.j        ]\n",
            " [-0.37423006+0.34234215j  0.09470887+0.57433055j  0.63555359+0.j        ]\n",
            " [-0.37423006-0.34234215j  0.09470887-0.57433055j  0.63555359-0.j        ]]\n"
          ]
        }
      ]
    },
    {
      "cell_type": "code",
      "source": [
        "# Câu 5:\n",
        "R = np.array([[4, -1, 2], [1, 3, -2], [0, 2, 5]])\n",
        "b5 = np.array([12, 5, 9])\n",
        "# a)\n",
        "x5 = np.linalg.solve(R, b5)\n",
        "print(\"C5.a Nghiệm hệ Rx = b:\", x5)\n",
        "# b)\n",
        "if np.linalg.det(R) != 0:\n",
        "    R_nghich = np.linalg.inv(R)\n",
        "    print(\"C5.b R⁻¹ · b =\", R_nghich @ b5)\n",
        "else:\n",
        "    print(\"C5.b R không khả nghịch\")\n",
        "\n",
        "# c)\n",
        "print(\"C5.c Chuẩn Frobenius của R =\", np.linalg.norm(R, 'fro'))"
      ],
      "metadata": {
        "colab": {
          "base_uri": "https://localhost:8080/"
        },
        "id": "oVjPGZqYnrDN",
        "outputId": "d13a8338-332c-4ae5-d70c-1c595327c2c2"
      },
      "execution_count": 5,
      "outputs": [
        {
          "output_type": "stream",
          "name": "stdout",
          "text": [
            "C5.a Nghiệm hệ Rx = b: [2.78823529 1.52941176 1.18823529]\n",
            "C5.b R⁻¹ · b = [2.78823529 1.52941176 1.18823529]\n",
            "C5.c Chuẩn Frobenius của R = 8.0\n"
          ]
        }
      ]
    }
  ]
}