{
  "nbformat": 4,
  "nbformat_minor": 0,
  "metadata": {
    "colab": {
      "provenance": []
    },
    "kernelspec": {
      "name": "python3",
      "display_name": "Python 3"
    },
    "language_info": {
      "name": "python"
    }
  },
  "cells": [
    {
      "cell_type": "markdown",
      "source": [
        "[link text](https://)"
      ],
      "metadata": {
        "id": "iU_UxnmDcxmc"
      }
    },
    {
      "cell_type": "markdown",
      "source": [],
      "metadata": {
        "id": "40f_jFaJc1cz"
      }
    },
    {
      "cell_type": "markdown",
      "source": [],
      "metadata": {
        "id": "1Mw6hOPYcjQu"
      }
    },
    {
      "cell_type": "code",
      "source": [
        "#Bai1:\n",
        "def scale(a, v):\n",
        " return [a*vi for vi in v]\n",
        "v = [3,5,7]\n",
        "print(scale(10, v))\n",
        "def sumvector(v, w):\n",
        " return [vi+wi for (vi, wi) in zip(v, w)]\n",
        "v = [3,5,7]\n",
        "w = [2,4,6]\n",
        "print(sumvector(v, w))\n",
        "def dotvector(v, w):\n",
        " return sum([vi*wi for (vi, wi) in zip(v, w)])\n",
        "print(dotvector(v, w))\n",
        "def lenvector(v):\n",
        " return dotvector(v,v)\n",
        "print(lenvector(w))\n"
      ],
      "metadata": {
        "colab": {
          "base_uri": "https://localhost:8080/"
        },
        "id": "pSAezTPqVaWx",
        "outputId": "82ff64da-8b40-4119-ba43-54e8bf2f7da6"
      },
      "execution_count": 2,
      "outputs": [
        {
          "output_type": "stream",
          "name": "stdout",
          "text": [
            "[30, 50, 70]\n",
            "[5, 9, 13]\n",
            "68\n",
            "56\n"
          ]
        }
      ]
    },
    {
      "cell_type": "markdown",
      "source": [],
      "metadata": {
        "id": "WlkMFN3uchzf"
      }
    }
  ]
}