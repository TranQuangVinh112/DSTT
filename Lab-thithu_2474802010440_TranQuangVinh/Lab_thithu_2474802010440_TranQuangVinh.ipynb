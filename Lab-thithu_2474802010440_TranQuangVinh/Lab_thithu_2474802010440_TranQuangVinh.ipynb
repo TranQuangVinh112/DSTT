{
  "nbformat": 4,
  "nbformat_minor": 0,
  "metadata": {
    "colab": {
      "provenance": []
    },
    "kernelspec": {
      "name": "python3",
      "display_name": "Python 3"
    },
    "language_info": {
      "name": "python"
    }
  },
  "cells": [
    {
      "cell_type": "code",
      "execution_count": 1,
      "metadata": {
        "colab": {
          "base_uri": "https://localhost:8080/"
        },
        "id": "6k9h4vr1lG3b",
        "outputId": "a23bc348-9329-4f5c-c094-91b13451b269"
      },
      "outputs": [
        {
          "output_type": "stream",
          "name": "stdout",
          "text": [
            "a) Tổng A + B: [3 3 1 5]\n",
            "   Tích số 3A - 2B: [  4 -11  13 -10]\n",
            "b) Tích vô hướng A · B: -8\n",
            "   Góc giữa A và B (độ): 108.376\n",
            "c) Ma trận C^T * C:\n",
            " [[ 5  0 -1]\n",
            " [ 0 14 10]\n",
            " [-1 10 17]]\n"
          ]
        }
      ],
      "source": [
        "#Câu 1:\n",
        "import numpy as np\n",
        "from numpy.linalg import norm\n",
        "from math import degrees, acos\n",
        "A = np.array([2, -1, 3, 0])\n",
        "B = np.array([1, 4, -2, 5])\n",
        "C = np.array([[1, 2, -1],[0, 3, 4], [2, -1, 0]])\n",
        "tong = A + B\n",
        "tich_so = 3 * A - 2 * B\n",
        "print(\"a) Tổng A + B:\", tong)\n",
        "print(\"   Tích số 3A - 2B:\", tich_so)\n",
        "dot_product = np.dot(A, B)\n",
        "cos_theta = dot_product / (norm(A) * norm(B))\n",
        "goc_do = round(degrees(acos(cos_theta)), 3)\n",
        "print(\"b) Tích vô hướng A · B:\", dot_product)\n",
        "print(\"   Góc giữa A và B (độ):\", goc_do)\n",
        "CT = C.T\n",
        "CTC = CT @ C\n",
        "print(\"c) Ma trận C^T * C:\\n\", CTC)\n"
      ]
    },
    {
      "cell_type": "code",
      "source": [
        "#Câu 2:\n",
        "import numpy as np\n",
        "M = np.array([[1, 2, 3, 0], [4, 5, 6, 1], [7, 8, 9, 2], [0, 1, 1, 0]])\n",
        "N = np.array([[0, 1, 2, 3], [4, 5, 6, 7],  [8, 9, 10, 11], [12, 13, 14, 15]])\n",
        "tich_MN = M @ N\n",
        "print(\"a) Tích M × N:\\n\", tich_MN)\n",
        "try:\n",
        "    dinh_thuc_M = round(np.linalg.det(M), 3)\n",
        "    print(\"b) Định thức của M:\", dinh_thuc_M)\n",
        "except np.linalg.LinAlgError:\n",
        "    print(\"b) Không thể tính định thức vì M không phải là ma trận vuông\")\n",
        "hang_N = np.linalg.matrix_rank(N)\n",
        "print(\"c) Hạng của ma trận N:\", hang_N)"
      ],
      "metadata": {
        "colab": {
          "base_uri": "https://localhost:8080/"
        },
        "id": "I9ja0hWNnw7k",
        "outputId": "e8e02ef2-aa83-4767-cd0a-b0ec1ed4918c"
      },
      "execution_count": 2,
      "outputs": [
        {
          "output_type": "stream",
          "name": "stdout",
          "text": [
            "a) Tích M × N:\n",
            " [[ 32  38  44  50]\n",
            " [ 80  96 112 128]\n",
            " [128 154 180 206]\n",
            " [ 12  14  16  18]]\n",
            "b) Định thức của M: 0.0\n",
            "c) Hạng của ma trận N: 2\n"
          ]
        }
      ]
    },
    {
      "cell_type": "code",
      "source": [
        "#Câu 3:\n",
        "import numpy as np\n",
        "P = np.array([[2, 1, 0, 1],  [0, 3, 1, -1],[1, 0, 4, 2],[0, 1, 0, 3]])\n",
        "b = np.array([4, 7, 9, 5])\n",
        "try:\n",
        "    P_inv = np.linalg.inv(P)\n",
        "    print(\"a) Ma trận nghịch đảo của P:\\n\", np.round(P_inv, 3))\n",
        "except np.linalg.LinAlgError:\n",
        "    print(\"a) Ma trận P không khả nghịch (det = 0)\")\n",
        "x = P_inv @ b\n",
        "print(\"b) Nghiệm của hệ phương trình là:\\n\", np.round(x, 3))\n",
        "b_check = P @ x\n",
        "print(\"c) P @ x =\\n\", np.round(b_check, 3))\n",
        "print(\"Vector hằng số b =\\n\", b)\n",
        "print(\"✅ Kiểm tra: \", np.allclose(b_check, b))\n"
      ],
      "metadata": {
        "colab": {
          "base_uri": "https://localhost:8080/"
        },
        "id": "4B330Wljnw60",
        "outputId": "b184b21b-19f1-43c5-8d46-248c6f7d07ce"
      },
      "execution_count": 3,
      "outputs": [
        {
          "output_type": "stream",
          "name": "stdout",
          "text": [
            "a) Ma trận nghịch đảo của P:\n",
            " [[ 0.488 -0.093  0.023 -0.209]\n",
            " [ 0.035  0.279 -0.07   0.128]\n",
            " [-0.116  0.07   0.233 -0.093]\n",
            " [-0.012 -0.093  0.023  0.291]]\n",
            "b) Nghiệm của hệ phương trình là:\n",
            " [0.465 2.105 1.651 0.965]\n",
            "c) P @ x =\n",
            " [4. 7. 9. 5.]\n",
            "Vector hằng số b =\n",
            " [4 7 9 5]\n",
            "✅ Kiểm tra:  True\n"
          ]
        }
      ]
    },
    {
      "cell_type": "code",
      "source": [
        "#Câu 4:\n",
        "import numpy as np\n",
        "Q = np.array([[4, -1, 0], [1,  3, -2], [0,  1,  2]])\n",
        "eigenvalues, eigenvectors = np.linalg.eig(Q)\n",
        "print(\"a) Các giá trị riêng (eigenvalues):\")\n",
        "print(np.round(eigenvalues, 3))\n",
        "print(\"\\nb) Các vector riêng tương ứng (mỗi cột là 1 vector):\")\n",
        "print(np.round(eigenvectors, 3))\n",
        "norm_vectors = []\n",
        "print(\"\\nc) Vector riêng sau khi chuẩn hóa (độ dài = 1):\")\n",
        "for v in eigenvectors.T:\n",
        "    norm_v = v / np.linalg.norm(v)\n",
        "    norm_vectors.append(norm_v)\n",
        "    print(np.round(norm_v, 3))\n"
      ],
      "metadata": {
        "colab": {
          "base_uri": "https://localhost:8080/"
        },
        "id": "YtH5GICcnw5r",
        "outputId": "6a508361-ba62-4021-d9a0-53f33cc404bd"
      },
      "execution_count": 4,
      "outputs": [
        {
          "output_type": "stream",
          "name": "stdout",
          "text": [
            "a) Các giá trị riêng (eigenvalues):\n",
            "[3.453+0.j    2.773+1.468j 2.773-1.468j]\n",
            "\n",
            "b) Các vector riêng tương ứng (mỗi cột là 1 vector):\n",
            "[[ 0.833+0.j    -0.262-0.314j -0.262+0.314j]\n",
            " [ 0.455+0.j    -0.782+0.j    -0.782-0.j   ]\n",
            " [ 0.313+0.j    -0.22 +0.417j -0.22 -0.417j]]\n",
            "\n",
            "c) Vector riêng sau khi chuẩn hóa (độ dài = 1):\n",
            "[0.833+0.j 0.455+0.j 0.313+0.j]\n",
            "[-0.262-0.314j -0.782+0.j    -0.22 +0.417j]\n",
            "[-0.262+0.314j -0.782+0.j    -0.22 -0.417j]\n"
          ]
        }
      ]
    },
    {
      "cell_type": "code",
      "source": [
        "#Câu 5\n",
        "import numpy as np\n",
        "# a)\n",
        "R = np.array([[1, -2, 3],[2,  0, 1], [-1, 1, 4]])\n",
        "b = np.array([10, 8, 7])\n",
        "x = np.linalg.solve(R, b)\n",
        "print(\"a) Nghiệm của hệ phương trình Rx = b là:\")\n",
        "print(np.round(x, 3))\n",
        "# b)\n",
        "det_R = np.linalg.det(R)\n",
        "print(\"\\nb) Định thức của R:\", round(det_R, 3))\n",
        "if det_R != 0:\n",
        "    R_inv = np.linalg.inv(R)\n",
        "    print(\"R là khả nghịch. Ma trận nghịch đảo của R là:\")\n",
        "    print(np.round(R_inv, 3))\n",
        "    x_check = R_inv @ b\n",
        "    print(\"\\nNghiệm tính bằng R⁻¹ @ b:\")\n",
        "    print(np.round(x_check, 3))\n",
        "    print(\"\\nHai nghiệm có bằng nhau không?\", np.allclose(x, x_check))\n",
        "else:\n",
        "    print(\"R không khả nghịch (det = 0), không thể tính R⁻¹.\")\n",
        "\n",
        "# c)\n",
        "fro_norm = np.linalg.norm(R, 'fro')\n",
        "print(\"\\nc) Chuẩn Frobenius của ma trận R:\", round(fro_norm, 3))"
      ],
      "metadata": {
        "colab": {
          "base_uri": "https://localhost:8080/"
        },
        "id": "_JfMXfexpQax",
        "outputId": "2237ece4-55c2-43db-e8af-897fba394318"
      },
      "execution_count": 5,
      "outputs": [
        {
          "output_type": "stream",
          "name": "stdout",
          "text": [
            "a) Nghiệm của hệ phương trình Rx = b là:\n",
            "[2.783 0.043 2.435]\n",
            "\n",
            "b) Định thức của R: 23.0\n",
            "R là khả nghịch. Ma trận nghịch đảo của R là:\n",
            "[[-0.043  0.478 -0.087]\n",
            " [-0.391  0.304  0.217]\n",
            " [ 0.087  0.043  0.174]]\n",
            "\n",
            "Nghiệm tính bằng R⁻¹ @ b:\n",
            "[2.783 0.043 2.435]\n",
            "\n",
            "Hai nghiệm có bằng nhau không? True\n",
            "\n",
            "c) Chuẩn Frobenius của ma trận R: 6.083\n"
          ]
        }
      ]
    }
  ]
}