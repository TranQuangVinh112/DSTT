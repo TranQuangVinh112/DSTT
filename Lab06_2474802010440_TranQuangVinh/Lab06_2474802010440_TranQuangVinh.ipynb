{
  "nbformat": 4,
  "nbformat_minor": 0,
  "metadata": {
    "colab": {
      "provenance": []
    },
    "kernelspec": {
      "name": "python3",
      "display_name": "Python 3"
    },
    "language_info": {
      "name": "python"
    }
  },
  "cells": [
    {
      "cell_type": "code",
      "execution_count": 2,
      "metadata": {
        "id": "0PMW9x8rbQvr",
        "colab": {
          "base_uri": "https://localhost:8080/"
        },
        "outputId": "d05ff487-811b-452f-f139-06b6a0d826fb"
      },
      "outputs": [
        {
          "output_type": "stream",
          "name": "stdout",
          "text": [
            "32\n",
            "32\n"
          ]
        }
      ],
      "source": [
        "#Bài 1:\n",
        "#Tích vô hướng, trực giao và ứng dụng\n",
        "import numpy as np\n",
        "a = np.array([1, 2, 3])\n",
        "b = np.array([4, 5, 6])\n",
        "tich = np.inner(a, b)\n",
        "print(tich)\n",
        "print(np.dot(a, b))"
      ]
    },
    {
      "cell_type": "code",
      "source": [
        "#Độ dài/chuẩn của vector:\n",
        "import numpy as np\n",
        "import math\n",
        "from scipy import linalg\n",
        "\n",
        "a = np.array([1, 2, -3])\n",
        "\n",
        "def chuan(vec, k):\n",
        "    return sum(abs(x)**k for x in vec)**(1/k)\n",
        "print(np.linalg.norm(a))\n",
        "print(np.linalg.norm(a, 1))\n",
        "print(chuan(a, 1))\n",
        "print(np.linalg.norm(a, 1))\n",
        "print(chuan(a, 2))\n",
        "print(np.linalg.norm(a, 2))\n",
        "print(chuan(a, 3))\n",
        "print(np.linalg.norm(a, 3))\n",
        "print(chuan(a, 1000))\n",
        "print(np.linalg.norm(a, 1000))\n",
        "print(linalg.norm(a))\n",
        "print(linalg.norm(a, 100))\n",
        "print(linalg.norm(a, 1000))"
      ],
      "metadata": {
        "colab": {
          "base_uri": "https://localhost:8080/"
        },
        "id": "gtuKNFFuc6tl",
        "outputId": "ffd59f89-a853-48bc-b68b-b81c31b56aa0"
      },
      "execution_count": 3,
      "outputs": [
        {
          "output_type": "stream",
          "name": "stdout",
          "text": [
            "3.7416573867739413\n",
            "6.0\n",
            "6.0\n",
            "6.0\n",
            "3.7416573867739413\n",
            "3.7416573867739413\n",
            "3.3019272488946263\n",
            "3.3019272488946263\n",
            "1.0442214818467515\n",
            "inf\n",
            "3.7416573867739413\n",
            "3.0\n",
            "inf\n"
          ]
        },
        {
          "output_type": "stream",
          "name": "stderr",
          "text": [
            "/usr/local/lib/python3.11/dist-packages/numpy/linalg/_linalg.py:2780: RuntimeWarning: overflow encountered in power\n",
            "  absx **= ord\n"
          ]
        }
      ]
    },
    {
      "cell_type": "code",
      "source": [
        "#bài 2:\n",
        "import numpy as np\n",
        "\n",
        "m = 10\n",
        "v1 = np.array([5, -4, 3])\n",
        "v2 = np.array([4, 3, -2])\n",
        "v3 = np.array([-4, -3, -1])\n",
        "v4 = np.array([-9, 8, 6])\n",
        "mi = np.array([2, 5, 2, 1])\n",
        "M = np.array([v1, v2, v3, v4])\n",
        "MT = M.transpose()\n",
        "v = (1.0 / m) * MT.dot(mi)\n",
        "print(MT)\n",
        "print(v)"
      ],
      "metadata": {
        "colab": {
          "base_uri": "https://localhost:8080/"
        },
        "id": "r_UJXpd9do4d",
        "outputId": "0a618046-a969-4610-a180-5de4d18cbd81"
      },
      "execution_count": 23,
      "outputs": [
        {
          "output_type": "stream",
          "name": "stdout",
          "text": [
            "[[ 5  4 -4 -9]\n",
            " [-4  3 -3  8]\n",
            " [ 3 -2 -1  6]]\n",
            "[1.3 0.9 0. ]\n"
          ]
        }
      ]
    },
    {
      "cell_type": "code",
      "source": [
        "#Bài 3:\n",
        "import numpy as np\n",
        "\n",
        "A = np.array([[0.998, 0.136],\n",
        "              [0.002, 0.864]])\n",
        "\n",
        "v0 = np.array([[0.95],\n",
        "               [0.05]])\n",
        "A100 = np.linalg.matrix_power(A, 100)\n",
        "v100 = A100 @ v0\n",
        "print(A100)\n",
        "print(v100)"
      ],
      "metadata": {
        "colab": {
          "base_uri": "https://localhost:8080/"
        },
        "id": "yQgeneVieXxW",
        "outputId": "33f90a35-8932-4629-941d-128378071a00"
      },
      "execution_count": 24,
      "outputs": [
        {
          "output_type": "stream",
          "name": "stdout",
          "text": [
            "[[0.98550725 0.9855069 ]\n",
            " [0.01449275 0.0144931 ]]\n",
            "[[0.98550723]\n",
            " [0.01449277]]\n"
          ]
        }
      ]
    },
    {
      "cell_type": "code",
      "source": [
        "#thử nghiệm giải hệ trên bằng gói sympy:\n",
        "import sympy as sym\n",
        "\n",
        "x, y = sym.symbols('x y')\n",
        "xy = sym.Matrix([x, y])\n",
        "A = sym.Matrix([[1, -68], [1, 1]])\n",
        "v = sym.Matrix([0, 1])\n",
        "nghiem = sym.solve([A * xy - v])\n",
        "print(sym.pretty(nghiem))"
      ],
      "metadata": {
        "colab": {
          "base_uri": "https://localhost:8080/"
        },
        "id": "mfOgbR05e9dV",
        "outputId": "d8c2b260-c7cb-4b9d-f219-bc7fca8973d3"
      },
      "execution_count": 25,
      "outputs": [
        {
          "output_type": "stream",
          "name": "stdout",
          "text": [
            "⎧   68         ⎫\n",
            "⎨x: ──, y: 1/69⎬\n",
            "⎩   69         ⎭\n"
          ]
        }
      ]
    },
    {
      "cell_type": "code",
      "source": [
        "#Trị riêng và vector riêng của ma trận\n",
        "# kiểm lại phát biểu:\n",
        "import sympy as sym\n",
        "\n",
        "A = sym.Matrix([[1, 6], [5, 2]])\n",
        "u = sym.Matrix([6, -5])\n",
        "\n",
        "kq = A * u\n",
        "kq_so_voi = -4 * u\n",
        "\n",
        "print(\"A * u =\", kq)\n",
        "print(\"-4 * u =\", kq_so_voi)\n",
        "print(\"A*u == -4*u ?\", kq == kq_so_voi)\n"
      ],
      "metadata": {
        "colab": {
          "base_uri": "https://localhost:8080/"
        },
        "id": "Rd_qKJBzgWO-",
        "outputId": "4d4d4b3b-613d-4b6d-d150-01ac4f531440"
      },
      "execution_count": 26,
      "outputs": [
        {
          "output_type": "stream",
          "name": "stdout",
          "text": [
            "A * u = Matrix([[-24], [20]])\n",
            "-4 * u = Matrix([[-24], [20]])\n",
            "A*u == -4*u ? True\n"
          ]
        }
      ]
    },
    {
      "cell_type": "code",
      "source": [
        "# Tính trị riêng bằng gói thư viện sympy\n",
        "import sympy as sym\n",
        "x, y, Lambda = sym.symbols('x y Lambda')\n",
        "I = sym.eye(2)\n",
        "A = sym.Matrix([[2, 3], [3, -6]])\n",
        "phuongtrinh = sym.Eq(sym.det(Lambda * I - A), 0)\n",
        "nghiem = sym.solve(phuongtrinh)\n",
        "print([sym.N(val, 4) for val in nghiem])\n",
        "print(sym.pretty(nghiem))"
      ],
      "metadata": {
        "colab": {
          "base_uri": "https://localhost:8080/"
        },
        "id": "wgRWNzzvg_WV",
        "outputId": "b918a483-d76d-4a71-b77f-8d59e337ce04"
      },
      "execution_count": 27,
      "outputs": [
        {
          "output_type": "stream",
          "name": "stdout",
          "text": [
            "[-7.000, 3.000]\n",
            "[-7, 3]\n"
          ]
        }
      ]
    },
    {
      "cell_type": "code",
      "source": [
        "#.Ứng dụng của trị riêng và vector riêng\n",
        "import numpy as np\n",
        "from numpy import linalg as LA\n",
        "\n",
        "A = np.array([[2, 3], [3, -6]])\n",
        "D = np.array([[-7, 0], [0, 3]])\n",
        "P = np.array([[-1.0/3, 3], [1, 1]])\n",
        "P1 = LA.inv(P)\n",
        "print(P1)\n",
        "print(A.dot(P))\n",
        "print(P.dot(D))\n",
        "print(D @ D)\n",
        "print(np.linalg.matrix_power(D, 1000))\n",
        "print(P @ np.linalg.matrix_power(D, 1000) @ P1)"
      ],
      "metadata": {
        "colab": {
          "base_uri": "https://localhost:8080/"
        },
        "id": "yX5a-HyehoMd",
        "outputId": "a761e4ba-44c6-4ace-e912-12ed4e27c6e6"
      },
      "execution_count": 28,
      "outputs": [
        {
          "output_type": "stream",
          "name": "stdout",
          "text": [
            "[[-0.3  0.9]\n",
            " [ 0.3  0.1]]\n",
            "[[ 2.33333333  9.        ]\n",
            " [-7.          3.        ]]\n",
            "[[ 2.33333333  9.        ]\n",
            " [-7.          3.        ]]\n",
            "[[49  0]\n",
            " [ 0  9]]\n",
            "[[-5479429532463080511                    0]\n",
            " [                   0  6203307696791771937]]\n",
            "[[ 5.03503397e+18  3.50482117e+18]\n",
            " [ 3.50482117e+18 -4.31115581e+18]]\n"
          ]
        }
      ]
    },
    {
      "cell_type": "markdown",
      "source": [
        "# **Bài Tập Chương**"
      ],
      "metadata": {
        "id": "dFvnl8UBhx1N"
      }
    },
    {
      "cell_type": "code",
      "source": [
        "#Câu 1:\n",
        "import numpy as np\n",
        "import math\n",
        "\n",
        "a = np.array([1, 2, 3])\n",
        "mag1 = np.sqrt(a.dot(a))\n",
        "print(mag1)\n",
        "mag2 = np.sqrt(a @ a)\n",
        "print(mag2)\n",
        "mag3 = np.sqrt(np.inner(a, a))\n",
        "print(mag3)\n",
        "mag = lambda x: math.sqrt(sum(i ** 2 for i in x))\n",
        "print(mag(a))\n",
        "#đáp án a chuẩn nhất dù cả 4 đều đúng"
      ],
      "metadata": {
        "colab": {
          "base_uri": "https://localhost:8080/"
        },
        "id": "DPHP1JDqh5md",
        "outputId": "9801ff99-846b-41e9-f9c2-0c4f337623de"
      },
      "execution_count": 29,
      "outputs": [
        {
          "output_type": "stream",
          "name": "stdout",
          "text": [
            "3.7416573867739413\n",
            "3.7416573867739413\n",
            "3.7416573867739413\n",
            "3.7416573867739413\n"
          ]
        }
      ]
    },
    {
      "cell_type": "code",
      "source": [
        "#câu 2:\n",
        "import numpy as np\n",
        "from math import acos, degrees\n",
        "u = np.array([1, 2, 3])\n",
        "v = np.array([4, 5, 6])\n",
        "# a. Tính khoảng cách giữa 2 vector u và v: ||u - v||\n",
        "khoang_cach = np.linalg.norm(u - v)\n",
        "print(\"a. Khoảng cách ||u - v|| =\", khoang_cach)\n",
        "# b. Tính góc θ giữa u và v:\n",
        "tich_vo_huong = np.dot(u, v)\n",
        "chuan_u = np.linalg.norm(u)\n",
        "chuan_v = np.linalg.norm(v)\n",
        "cos_theta = tich_vo_huong / (chuan_u * chuan_v)\n",
        "theta = acos(cos_theta)        # kết quả tính theo radian\n",
        "print(\"b. Góc θ (radian) =\", theta)\n",
        "print(\"b. Góc θ (độ) =\", degrees(theta))\n",
        "# c. Phép chiếu trực giao p của u lên v:\n",
        "phan_so = np.dot(u, v) / np.dot(v, v)\n",
        "p = phan_so * v\n",
        "print(\"c. Vector chiếu p =\", p)\n"
      ],
      "metadata": {
        "colab": {
          "base_uri": "https://localhost:8080/"
        },
        "id": "bQWLElspioKn",
        "outputId": "61ff0b2b-bc9c-48dc-e63b-089725935172"
      },
      "execution_count": 30,
      "outputs": [
        {
          "output_type": "stream",
          "name": "stdout",
          "text": [
            "a. Khoảng cách ||u - v|| = 5.196152422706632\n",
            "b. Góc θ (radian) = 0.2257261285527342\n",
            "b. Góc θ (độ) = 12.933154491899135\n",
            "c. Vector chiếu p = [1.66233766 2.07792208 2.49350649]\n"
          ]
        }
      ]
    }
  ]
}