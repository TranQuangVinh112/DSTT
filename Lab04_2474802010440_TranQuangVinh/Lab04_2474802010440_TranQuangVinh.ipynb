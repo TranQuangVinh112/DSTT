{
  "nbformat": 4,
  "nbformat_minor": 0,
  "metadata": {
    "colab": {
      "provenance": [],
      "gpuType": "T4"
    },
    "kernelspec": {
      "name": "python3",
      "display_name": "Python 3"
    },
    "language_info": {
      "name": "python"
    },
    "accelerator": "GPU"
  },
  "cells": [
    {
      "cell_type": "code",
      "execution_count": 1,
      "metadata": {
        "colab": {
          "base_uri": "https://localhost:8080/"
        },
        "id": "ZRKZTNwOh7b_",
        "outputId": "92521cbe-f3ef-4657-a95b-05df03b86976"
      },
      "outputs": [
        {
          "output_type": "stream",
          "name": "stdout",
          "text": [
            "-1\n",
            "1\n",
            "1\n"
          ]
        }
      ],
      "source": [
        "#Bài 1:\n",
        "import numpy as np\n",
        "\n",
        "n = 4\n",
        "\n",
        "X = np.array(range(1, n+1))\n",
        "\n",
        "sigma = np.array([4, 3, 2, 1])\n",
        "\n",
        "def sgn_by_def(sigma):\n",
        "    ket_qua = 1.0\n",
        "    for i in range(len(X)-1):\n",
        "        for j in range(i+1, len(X)):\n",
        "            ket_qua = ket_qua * ((X[i] - X[j]) / (sigma[i] - sigma[j]))\n",
        "    return int(ket_qua)\n",
        "\n",
        "sigma = np.array([2, 1, 3, 4])\n",
        "print(sgn_by_def(sigma))\n",
        "\n",
        "sigma = np.array([1, 2, 3, 4])\n",
        "print(sgn_by_def(sigma))\n",
        "\n",
        "sigma = np.array([4, 3, 2, 1])\n",
        "print(sgn_by_def(sigma))\n"
      ]
    },
    {
      "cell_type": "code",
      "source": [
        "#đoạn mã minh họa tính toán định thức của một ma trận theo định nghĩa.:\n",
        "from itertools import permutations\n",
        "import numpy as np\n",
        "n = 3\n",
        "X = []\n",
        "for i in range(1, n+1):\n",
        "   X.append(i)\n",
        "\n",
        "Sn = list(permutations(X))\n",
        "print(Sn)\n",
        "\n",
        "print(Sn[3])\n",
        "print(Sn[3].index(2))\n",
        "\n",
        "det = 0\n",
        "\n",
        "def sgn_by_def(sigma):\n",
        "    ket_qua = 1.0\n",
        "    for i in range(len(X)-1):\n",
        "        for j in range(i+1, len(X)):\n",
        "            ket_qua = ket_qua * ((X[i] - X[j]) / (sigma[i] - sigma[j]))\n",
        "    return int(ket_qua)\n",
        "for i in range(len(Sn)):\n",
        "    sigma = np.array(Sn[i])\n",
        "    print(f\"sgn({Sn[i]}) =\", sgn_by_def(sigma))\n",
        "\n"
      ],
      "metadata": {
        "colab": {
          "base_uri": "https://localhost:8080/"
        },
        "id": "jn84JxeHjrzr",
        "outputId": "44be87d3-3184-4696-ac23-13ce08a98e5e"
      },
      "execution_count": 2,
      "outputs": [
        {
          "output_type": "stream",
          "name": "stdout",
          "text": [
            "[(1, 2, 3), (1, 3, 2), (2, 1, 3), (2, 3, 1), (3, 1, 2), (3, 2, 1)]\n",
            "(2, 3, 1)\n",
            "0\n",
            "sgn((1, 2, 3)) = 1\n",
            "sgn((1, 3, 2)) = -1\n",
            "sgn((2, 1, 3)) = -1\n",
            "sgn((2, 3, 1)) = 1\n",
            "sgn((3, 1, 2)) = 1\n",
            "sgn((3, 2, 1)) = -1\n"
          ]
        }
      ]
    },
    {
      "cell_type": "code",
      "source": [
        "#đoạn code 1:\n",
        "from itertools import permutations\n",
        "import numpy as np\n",
        "\n",
        "def sgn_by_def(sigma):\n",
        "    X = list(range(1, len(sigma)+1))\n",
        "    ket_qua = 1.0\n",
        "    for i in range(len(X)-1):\n",
        "        for j in range(i+1, len(X)):\n",
        "            ket_qua *= (X[i] - X[j]) / (sigma[i] - sigma[j])\n",
        "    return int(ket_qua)\n",
        "\n",
        "def phatsinh_dinhthuc(n):\n",
        "    X = []\n",
        "    for i in range(1, n+1):\n",
        "        X.append(i)\n",
        "    Sn = list(permutations(X))\n",
        "    dinhthuc = \"\"\n",
        "    for sn in Sn:\n",
        "        sigma = np.array([1])\n",
        "        sigma.resize([n])\n",
        "        product = \"\"\n",
        "        for i in range(1, n+1):\n",
        "            sigma[sn.index(i)] = i\n",
        "            product += \"a\" + str(i) + str(sn.index(i)+1)\n",
        "        dau = sgn_by_def(sigma)\n",
        "        if dau != 1:\n",
        "            product = \"-\" + product\n",
        "        else:\n",
        "            product = \"+\" + product\n",
        "        dinhthuc += product\n",
        "    return dinhthuc\n",
        "print(phatsinh_dinhthuc(2))\n",
        "print(phatsinh_dinhthuc(3))\n"
      ],
      "metadata": {
        "colab": {
          "base_uri": "https://localhost:8080/"
        },
        "id": "2QDlQxH0kd7Z",
        "outputId": "98f592df-78c2-40f7-b1b6-19a678986f8a"
      },
      "execution_count": 3,
      "outputs": [
        {
          "output_type": "stream",
          "name": "stdout",
          "text": [
            "+a11a22-a12a21\n",
            "+a11a22a33-a11a23a32-a12a21a33+a13a21a32+a12a23a31-a13a22a31\n"
          ]
        }
      ]
    },
    {
      "cell_type": "code",
      "source": [
        "#đoạn code 2:\n",
        "import numpy as np\n",
        "from itertools import permutations\n",
        "import math\n",
        "\n",
        "A = np.array([[3, 5, -8], [4, 12, 1], [2, 5, 3]])\n",
        "n = int(math.sqrt(A.size))\n",
        "X = []\n",
        "for i in range(1, n+1):\n",
        "    X.append(i)\n",
        "Sn = list(permutations(X))\n",
        "def sgn_by_def(sigma):\n",
        "    inv = 0\n",
        "    for i in range(len(sigma)):\n",
        "        for j in range(i+1, len(sigma)):\n",
        "            if sigma[i] > sigma[j]:\n",
        "                inv += 1\n",
        "    return -1 if inv % 2 else 1\n",
        "dinhthuc = 0\n",
        "for sn in Sn:\n",
        "    sigma = np.array([1])\n",
        "    sigma.resize([n])\n",
        "    for i in range(1, n+1):\n",
        "        sigma[sn.index(i)] = i\n",
        "    product = 1\n",
        "    for i in range(1, n+1):\n",
        "        product = product * A[i-1][sn[i-1]-1]\n",
        "    dau = sgn_by_def(sn)\n",
        "    if dau != 1:\n",
        "        product = product * (-1)\n",
        "    dinhthuc = dinhthuc + product\n",
        "print(dinhthuc)"
      ],
      "metadata": {
        "colab": {
          "base_uri": "https://localhost:8080/"
        },
        "id": "pjlzDDoGnufP",
        "outputId": "01ab88b1-8928-40ed-8c37-bf8d6d402d55"
      },
      "execution_count": 4,
      "outputs": [
        {
          "output_type": "stream",
          "name": "stdout",
          "text": [
            "75\n"
          ]
        }
      ]
    },
    {
      "cell_type": "code",
      "source": [
        "#Câu 3:\n",
        "import numpy as np\n",
        "from scipy import linalg\n",
        "\n",
        "A = np.array([[4, -2], [3, -5]])\n",
        "A1 = np.array([[10, -2], [11, -5]])\n",
        "A2 = np.array([[4, 10], [3, 11]])\n",
        "\n",
        "detA = linalg.det(A)\n",
        "detA1 = linalg.det(A1)\n",
        "detA2 = linalg.det(A2)\n",
        "\n",
        "print(detA, detA1, detA2)\n",
        "\n",
        "if detA != 0:\n",
        "    x1 = detA1 / detA\n",
        "    x2 = detA2 / detA\n",
        "    print(\"Hai nghiệm của phương trình là:\", x1, x2)\n"
      ],
      "metadata": {
        "colab": {
          "base_uri": "https://localhost:8080/"
        },
        "id": "pQgpFhzGo8hQ",
        "outputId": "188ecf92-b194-4d1b-a98f-cc4f0abbf8e7"
      },
      "execution_count": 5,
      "outputs": [
        {
          "output_type": "stream",
          "name": "stdout",
          "text": [
            "-14.0 -28.0 14.000000000000004\n",
            "Hai nghiệm của phương trình là: 2.0 -1.0000000000000002\n"
          ]
        }
      ]
    },
    {
      "cell_type": "code",
      "source": [
        "#Hệ ba phương trình tuyến tính bậc 1:\n",
        "import numpy as np\n",
        "A = np.array([[-1, 2, -3],\n",
        "              [2, -2, 1],\n",
        "              [3, -4, 4]])\n",
        "\n",
        "b = np.array([1, 3, 2])\n",
        "rank_A = np.linalg.matrix_rank(A)\n",
        "augmented_matrix = np.column_stack((A, b))\n",
        "rank_augmented = np.linalg.matrix_rank(augmented_matrix)\n",
        "if rank_A == rank_augmented:\n",
        "    if rank_A == A.shape[1]:\n",
        "        solution = np.linalg.solve(A, b)\n",
        "        print(\"Hệ có nghiệm duy nhất:\")\n",
        "        print(f\"a = {solution[0]}\")\n",
        "        print(f\"e = {solution[1]}\")\n",
        "        print(f\"f = {solution[2]}\")\n",
        "    else:\n",
        "        print(\"Hệ có vô số nghiệm\")\n",
        "else:\n",
        "    print(\"Hệ vô nghiệm\")"
      ],
      "metadata": {
        "colab": {
          "base_uri": "https://localhost:8080/"
        },
        "id": "e79u5QDVp_cx",
        "outputId": "1d14c609-6ed1-46c2-a901-1b7d03e555ee"
      },
      "execution_count": 6,
      "outputs": [
        {
          "output_type": "stream",
          "name": "stdout",
          "text": [
            "Hệ có vô số nghiệm\n"
          ]
        }
      ]
    },
    {
      "cell_type": "code",
      "source": [
        "#Bài 4:\n",
        "import sympy as sp\n",
        "\n",
        "TG = sp.Matrix([[1, 0, 1], [4, 3, 1], [2, 2, 1]])\n",
        "dientich = 1/2 * TG.det()\n",
        "print(\"Kết quả diện tích tam giác là:\", dientich)\n"
      ],
      "metadata": {
        "colab": {
          "base_uri": "https://localhost:8080/"
        },
        "id": "1bdEptvYskhG",
        "outputId": "f05ce78b-ea7b-4735-ebff-99c3ceea1b0f"
      },
      "execution_count": 7,
      "outputs": [
        {
          "output_type": "stream",
          "name": "stdout",
          "text": [
            "Kết quả diện tích tam giác là: 1.50000000000000\n"
          ]
        }
      ]
    },
    {
      "cell_type": "code",
      "source": [
        "#ứng dụng\n",
        "from sympy import Matrix\n",
        "\n",
        "M = Matrix([[0, 4, 1, 1], [4, 0, 0, 1], [3, 5, 2, 1], [2, 2, 5, 1]])\n",
        "the_tich = abs(1/6 * M.det())\n",
        "print(\"Thể tích của tứ diện là:\", the_tich)\n"
      ],
      "metadata": {
        "colab": {
          "base_uri": "https://localhost:8080/"
        },
        "id": "CDm6EneIs56o",
        "outputId": "59898cfc-b1fe-4016-cb39-ba5a3127470a"
      },
      "execution_count": 8,
      "outputs": [
        {
          "output_type": "stream",
          "name": "stdout",
          "text": [
            "Thể tích của tứ diện là: 12.0000000000000\n"
          ]
        }
      ]
    },
    {
      "cell_type": "code",
      "source": [
        "import numpy as np\n",
        "A = np.array([[1], [2], [3]])\n",
        "B = np.array([[4], [0], [5]])\n",
        "v = B - A\n",
        "print(\"r(t) = A + t*v\")\n",
        "print(A)\n",
        "print(v)\n",
        "\n",
        "\n"
      ],
      "metadata": {
        "colab": {
          "base_uri": "https://localhost:8080/"
        },
        "id": "_OpROg2xtfLN",
        "outputId": "bdbfefd9-79bb-4810-a29e-5219258ab6e4"
      },
      "execution_count": 9,
      "outputs": [
        {
          "output_type": "stream",
          "name": "stdout",
          "text": [
            "r(t) = A + t*v\n",
            "[[1]\n",
            " [2]\n",
            " [3]]\n",
            "[[ 3]\n",
            " [-2]\n",
            " [ 2]]\n"
          ]
        }
      ]
    },
    {
      "cell_type": "markdown",
      "source": [
        "Bài tập Chương"
      ],
      "metadata": {
        "id": "FQj3K1Q8ZkH0"
      }
    },
    {
      "cell_type": "code",
      "source": [
        "#câu 1:\n",
        "import sympy as sp\n",
        "\n",
        "A = sp.Matrix([[1, 2, 3], [0, 4, 5], [7, 8, 9]])\n",
        "cofa = A.cofactor_matrix()\n",
        "lienhop = A.adjugate()\n",
        "\n",
        "print(\"Ma trận hệ số kép:\")\n",
        "print(cofa)\n",
        "print(\"Ma trận liên hợp:\")\n",
        "print(lienhop)\n",
        "\n"
      ],
      "metadata": {
        "colab": {
          "base_uri": "https://localhost:8080/"
        },
        "id": "l7AN3oVVYoF-",
        "outputId": "fe5c56ec-139d-4c37-fc0c-8c165c06aeeb"
      },
      "execution_count": 10,
      "outputs": [
        {
          "output_type": "stream",
          "name": "stdout",
          "text": [
            "Ma trận hệ số kép:\n",
            "Matrix([[-4, 35, -28], [6, -12, 6], [-2, -5, 4]])\n",
            "Ma trận liên hợp:\n",
            "Matrix([[-4, 6, -2], [35, -12, -5], [-28, 6, 4]])\n"
          ]
        }
      ]
    },
    {
      "cell_type": "code",
      "source": [
        "!pip uninstall sympy -y"
      ],
      "metadata": {
        "colab": {
          "base_uri": "https://localhost:8080/"
        },
        "id": "WDKz-cqKcgCV",
        "outputId": "a507d903-f7cc-42a5-eadc-21c7dc6b4ad9"
      },
      "execution_count": 11,
      "outputs": [
        {
          "output_type": "stream",
          "name": "stdout",
          "text": [
            "Found existing installation: sympy 1.13.1\n",
            "Uninstalling sympy-1.13.1:\n",
            "  Successfully uninstalled sympy-1.13.1\n"
          ]
        }
      ]
    },
    {
      "cell_type": "code",
      "source": [
        "#Câu 2:\n",
        "!pip uninstall sympy -y\n",
        "!pip install sympy\n",
        "\n",
        "from sympy import *\n",
        "\n",
        "x, y = symbols('x y')\n",
        "P1 = (1, 1)\n",
        "P2 = (2, 4)\n",
        "P3 = (5, 3)\n",
        "\n",
        "def hang(p):\n",
        "    return [p[0]**2 + p[1]**2, p[0], p[1], 1]\n",
        "\n",
        "M = Matrix([\n",
        "    [x**2 + y**2, x, y, 1],\n",
        "    hang(P1),\n",
        "    hang(P2),\n",
        "    hang(P3)\n",
        "])\n",
        "\n",
        "pt = simplify(M.det())\n",
        "print(Eq(pt, 0))"
      ],
      "metadata": {
        "colab": {
          "base_uri": "https://localhost:8080/",
          "height": 497
        },
        "id": "C-c7TS0eZ2CB",
        "outputId": "e4e10cc4-19fd-4b75-a266-c07f7d2e3135"
      },
      "execution_count": 13,
      "outputs": [
        {
          "output_type": "stream",
          "name": "stdout",
          "text": [
            "\u001b[33mWARNING: Skipping sympy as it is not installed.\u001b[0m\u001b[33m\n",
            "\u001b[0mCollecting sympy\n",
            "  Downloading sympy-1.14.0-py3-none-any.whl.metadata (12 kB)\n",
            "Requirement already satisfied: mpmath<1.4,>=1.1.0 in /usr/local/lib/python3.11/dist-packages (from sympy) (1.3.0)\n",
            "Downloading sympy-1.14.0-py3-none-any.whl (6.3 MB)\n",
            "\u001b[2K   \u001b[90m━━━━━━━━━━━━━━━━━━━━━━━━━━━━━━━━━━━━━━━━\u001b[0m \u001b[32m6.3/6.3 MB\u001b[0m \u001b[31m72.6 MB/s\u001b[0m eta \u001b[36m0:00:00\u001b[0m\n",
            "\u001b[?25hInstalling collected packages: sympy\n",
            "\u001b[31mERROR: pip's dependency resolver does not currently take into account all the packages that are installed. This behaviour is the source of the following dependency conflicts.\n",
            "torch 2.6.0+cu124 requires nvidia-cublas-cu12==12.4.5.8; platform_system == \"Linux\" and platform_machine == \"x86_64\", but you have nvidia-cublas-cu12 12.5.3.2 which is incompatible.\n",
            "torch 2.6.0+cu124 requires nvidia-cuda-cupti-cu12==12.4.127; platform_system == \"Linux\" and platform_machine == \"x86_64\", but you have nvidia-cuda-cupti-cu12 12.5.82 which is incompatible.\n",
            "torch 2.6.0+cu124 requires nvidia-cuda-nvrtc-cu12==12.4.127; platform_system == \"Linux\" and platform_machine == \"x86_64\", but you have nvidia-cuda-nvrtc-cu12 12.5.82 which is incompatible.\n",
            "torch 2.6.0+cu124 requires nvidia-cuda-runtime-cu12==12.4.127; platform_system == \"Linux\" and platform_machine == \"x86_64\", but you have nvidia-cuda-runtime-cu12 12.5.82 which is incompatible.\n",
            "torch 2.6.0+cu124 requires nvidia-cudnn-cu12==9.1.0.70; platform_system == \"Linux\" and platform_machine == \"x86_64\", but you have nvidia-cudnn-cu12 9.3.0.75 which is incompatible.\n",
            "torch 2.6.0+cu124 requires nvidia-cufft-cu12==11.2.1.3; platform_system == \"Linux\" and platform_machine == \"x86_64\", but you have nvidia-cufft-cu12 11.2.3.61 which is incompatible.\n",
            "torch 2.6.0+cu124 requires nvidia-curand-cu12==10.3.5.147; platform_system == \"Linux\" and platform_machine == \"x86_64\", but you have nvidia-curand-cu12 10.3.6.82 which is incompatible.\n",
            "torch 2.6.0+cu124 requires nvidia-cusolver-cu12==11.6.1.9; platform_system == \"Linux\" and platform_machine == \"x86_64\", but you have nvidia-cusolver-cu12 11.6.3.83 which is incompatible.\n",
            "torch 2.6.0+cu124 requires nvidia-cusparse-cu12==12.3.1.170; platform_system == \"Linux\" and platform_machine == \"x86_64\", but you have nvidia-cusparse-cu12 12.5.1.3 which is incompatible.\n",
            "torch 2.6.0+cu124 requires nvidia-nvjitlink-cu12==12.4.127; platform_system == \"Linux\" and platform_machine == \"x86_64\", but you have nvidia-nvjitlink-cu12 12.5.82 which is incompatible.\n",
            "torch 2.6.0+cu124 requires sympy==1.13.1; python_version >= \"3.9\", but you have sympy 1.14.0 which is incompatible.\u001b[0m\u001b[31m\n",
            "\u001b[0mSuccessfully installed sympy-1.14.0\n"
          ]
        },
        {
          "output_type": "display_data",
          "data": {
            "application/vnd.colab-display-data+json": {
              "pip_warning": {
                "packages": [
                  "sympy"
                ]
              },
              "id": "378cb06033df44339f0736bb10fb355a"
            }
          },
          "metadata": {}
        },
        {
          "output_type": "stream",
          "name": "stdout",
          "text": [
            "Eq(-10*x**2 + 60*x - 10*y**2 + 40*y - 80, 0)\n"
          ]
        }
      ]
    },
    {
      "cell_type": "code",
      "source": [
        "!pip uninstall sympy -y\n",
        "!pip install sympy"
      ],
      "metadata": {
        "id": "h6U12YP-cGD8"
      },
      "execution_count": null,
      "outputs": []
    }
  ]
}