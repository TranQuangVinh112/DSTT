{
  "nbformat": 4,
  "nbformat_minor": 0,
  "metadata": {
    "colab": {
      "provenance": []
    },
    "kernelspec": {
      "name": "python3",
      "display_name": "Python 3"
    },
    "language_info": {
      "name": "python"
    }
  },
  "cells": [
    {
      "cell_type": "code",
      "execution_count": 2,
      "metadata": {
        "colab": {
          "base_uri": "https://localhost:8080/"
        },
        "id": "has85Jr7eaa5",
        "outputId": "de1fed4f-764a-4fb2-9c17-6f5385b7380f"
      },
      "outputs": [
        {
          "output_type": "stream",
          "name": "stdout",
          "text": [
            "[[1 2]\n",
            " [3 4]]\n"
          ]
        }
      ],
      "source": [
        "#Bài 1:\n",
        "#1.1:\n",
        "import numpy as np\n",
        "\n",
        "#D = np.array([[1, 2], [3, 4]])\n",
        "#np.copyto(E, D)  # lỗi vì E chưa được khai báo\n",
        "\n",
        "E = np.array([[1, 2], [3, 5]])\n",
        "np.copyto(E, D)\n",
        "print(E)\n"
      ]
    },
    {
      "cell_type": "code",
      "source": [
        "#1.2:\n",
        "# Nên sử dụng kiểu numpy.matrix:\n",
        "import numpy as np\n",
        "# x = np.array([['a','b'],['c','d']])  # Dòng này gây lỗi vì np.matrix cần dữ liệu số\n",
        "# y = 'x'                              # Dòng này cũng gây lỗi vì y là chuỗi\n",
        "# Thay x và y bằng giá trị số vì np.matrix yêu cầu dữ liệu số\n",
        "x_so = 10\n",
        "y_so = 20\n",
        "# Tạo ma trận với giá trị số\n",
        "C = np.matrix([[x_so, y_so], [1, 2]])\n",
        "print(C)"
      ],
      "metadata": {
        "colab": {
          "base_uri": "https://localhost:8080/"
        },
        "id": "G_2WB7NtfIgH",
        "outputId": "9caac08b-ea13-411a-c309-d5a44e0c3c3b"
      },
      "execution_count": 5,
      "outputs": [
        {
          "output_type": "stream",
          "name": "stdout",
          "text": [
            "[[10 20]\n",
            " [ 1  2]]\n"
          ]
        }
      ]
    },
    {
      "cell_type": "code",
      "source": [
        "#Không nên/thể sử dụng kiểu numpy.matrix:\n",
        "import numpy as np\n",
        "#A = np.matrix([[[1,2],[3,4]],[[5,6],[7,8]]])  # lỗi vì numpy.matrix chỉ hỗ trợ 2 chiều\n",
        "\n",
        "A = np.array([[[1,2],[3,4]],[[5,6],[7,8]]])\n",
        "print(A)"
      ],
      "metadata": {
        "colab": {
          "base_uri": "https://localhost:8080/"
        },
        "id": "aQ4gtRsvgAbX",
        "outputId": "d3094311-b52b-456a-f01d-b3775c8a9665"
      },
      "execution_count": 6,
      "outputs": [
        {
          "output_type": "stream",
          "name": "stdout",
          "text": [
            "[[[1 2]\n",
            "  [3 4]]\n",
            "\n",
            " [[5 6]\n",
            "  [7 8]]]\n"
          ]
        }
      ]
    },
    {
      "cell_type": "code",
      "source": [
        "#1.3:\n",
        "from numpy import matlib\n",
        "\n",
        "G = matlib.identity(5)\n",
        "print(G)\n",
        "H = matlib.randn(3, 2)\n",
        "print(H)\n",
        "K = matlib.zeros([4, 4])\n",
        "print(K)"
      ],
      "metadata": {
        "colab": {
          "base_uri": "https://localhost:8080/"
        },
        "id": "G8S5P1hsgS8f",
        "outputId": "693cb372-d607-409b-cd84-051a04208ce4"
      },
      "execution_count": 7,
      "outputs": [
        {
          "output_type": "stream",
          "name": "stdout",
          "text": [
            "[[1. 0. 0. 0. 0.]\n",
            " [0. 1. 0. 0. 0.]\n",
            " [0. 0. 1. 0. 0.]\n",
            " [0. 0. 0. 1. 0.]\n",
            " [0. 0. 0. 0. 1.]]\n",
            "[[-0.42364742  0.34807829]\n",
            " [ 1.51622195 -0.76913553]\n",
            " [ 0.96069799 -1.09466671]]\n",
            "[[0. 0. 0. 0.]\n",
            " [0. 0. 0. 0.]\n",
            " [0. 0. 0. 0.]\n",
            " [0. 0. 0. 0.]]\n"
          ]
        }
      ]
    },
    {
      "cell_type": "code",
      "source": [
        "#Bài 2:\n",
        "import numpy as np\n",
        "\n",
        "c = [3, 7, 15, 1, 292, 1, 1, 1, 2, 1, 3, 1, 14, 2]\n",
        "# Thay np.mat bằng np.asmatrix vì np.mat đã bị xóa trong NumPy 2.0\n",
        "M = np.asmatrix([[1, 2], [3, 4]])\n",
        "for i in range(len(c)):\n",
        "    # Thay np.mat bằng np.asmatrix\n",
        "    ci = np.asmatrix([[1, 1], [1, 0]])\n",
        "    ci[0, 0] = c[i]\n",
        "    if i == 0:\n",
        "        M = ci\n",
        "    else:\n",
        "        M = M.dot(ci)\n",
        "print(M)\n",
        "print(M[0, 0] / M[1, 0])"
      ],
      "metadata": {
        "colab": {
          "base_uri": "https://localhost:8080/"
        },
        "id": "7Ib6-PFUgdc3",
        "outputId": "a855c830-4df0-4754-b3d2-878bf50dc962"
      },
      "execution_count": 9,
      "outputs": [
        {
          "output_type": "stream",
          "name": "stdout",
          "text": [
            "[[165707065  80143857]\n",
            " [ 52746197  25510582]]\n",
            "3.1415926535897936\n"
          ]
        }
      ]
    },
    {
      "cell_type": "code",
      "source": [
        "#Bài 3:\n",
        "X = np.array([[1, 1], [1, 2], [1, 3], [1, 4], [1, 5]])\n",
        "Y = np.array([[2], [4], [4], [4], [6]])\n",
        "XT = X.T\n",
        "A1 = np.linalg.inv(XT.dot(X))  # (X^T X)^(-1)\n",
        "A2 = XT.dot(Y)                 # X^T Y\n",
        "A = A1.dot(A2)\n",
        "f = X.dot(A)  # f_i = a0 + a1*x_i\n",
        "error = f - Y\n",
        "total_squared_error = (error.T).dot(error)\n",
        "print(f\"Hệ số hồi quy: a0 = {A[0][0]:.2f}, a1 = {A[1][0]:.2f}\")\n",
        "print(f\"Phương trình: y = {A[0][0]:.2f} + {A[1][0]:.2f}x\")\n",
        "print(f\"Tổng bình phương sai số: {total_squared_error[0][0]:.2f}\")"
      ],
      "metadata": {
        "colab": {
          "base_uri": "https://localhost:8080/"
        },
        "id": "rBgjMdC0gzH2",
        "outputId": "89bae58e-9ae6-41e6-df5d-e5fe7396dcd8"
      },
      "execution_count": 12,
      "outputs": [
        {
          "output_type": "stream",
          "name": "stdout",
          "text": [
            "Hệ số hồi quy: a0 = 1.60, a1 = 0.80\n",
            "Phương trình: y = 1.60 + 0.80x\n",
            "Tổng bình phương sai số: 1.60\n"
          ]
        }
      ]
    },
    {
      "cell_type": "markdown",
      "source": [
        "# **--Bài Tập Chương--**"
      ],
      "metadata": {
        "id": "zA9dvXBPhO82"
      }
    },
    {
      "cell_type": "code",
      "source": [
        "#Câu 1:\n",
        "import numpy as np\n",
        "from numpy import linalg\n",
        "def bpcuctieu(a):\n",
        "    b = []\n",
        "    o1 = []\n",
        "    for i in range(len(a)):\n",
        "        o1.append(1.0)\n",
        "        b.append((i + 1) * 1.0)\n",
        "    x = np.array([o1, b])\n",
        "    u = np.dot(x, x.T)\n",
        "    y = np.array(a)\n",
        "    u_1 = np.linalg.inv(u)\n",
        "    v = np.dot(u_1, x)\n",
        "    A = np.dot(v, y)\n",
        "    return A\n",
        "dulieu = [10.0, 8, 7, 5, 2]\n",
        "kq = bpcuctieu(dulieu)\n",
        "print(f\"Phương trình: y = {kq[0]:.1f} + {kq[1]:.1f}x\")"
      ],
      "metadata": {
        "colab": {
          "base_uri": "https://localhost:8080/"
        },
        "id": "NpbMOvp1g95i",
        "outputId": "fbcfde04-c014-4af6-837f-072cfb1d0fb7"
      },
      "execution_count": 11,
      "outputs": [
        {
          "output_type": "stream",
          "name": "stdout",
          "text": [
            "Phương trình: y = 12.1 + -1.9x\n"
          ]
        }
      ]
    }
  ]
}