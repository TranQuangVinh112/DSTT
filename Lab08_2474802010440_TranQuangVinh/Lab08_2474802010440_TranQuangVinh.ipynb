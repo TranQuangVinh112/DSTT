{
  "nbformat": 4,
  "nbformat_minor": 0,
  "metadata": {
    "colab": {
      "provenance": []
    },
    "kernelspec": {
      "name": "python3",
      "display_name": "Python 3"
    },
    "language_info": {
      "name": "python"
    }
  },
  "cells": [
    {
      "cell_type": "code",
      "execution_count": 1,
      "metadata": {
        "colab": {
          "base_uri": "https://localhost:8080/"
        },
        "id": "UufswaCansUD",
        "outputId": "35c18918-dfa5-4a67-ad4a-45d69e1a6e67"
      },
      "outputs": [
        {
          "output_type": "stream",
          "name": "stdout",
          "text": [
            "[ 18 -11   9  -8]\n",
            "[ 9.  -5.5  4.5 -4. ]\n"
          ]
        }
      ],
      "source": [
        "#Bài 1:\n",
        "#Bài toán 1:\n",
        "import numpy as np\n",
        "u = np.array([2, -1, 5, 0])\n",
        "v = np.array([4, 3, 1, -1])\n",
        "w = np.array([-6, 2, 0, 3])\n",
        "x1 = 2*u - (v + 3*w)\n",
        "print(x1)\n",
        "x2 = 0.5 * (2*u - v - 3*w)\n",
        "print(x2)"
      ]
    },
    {
      "cell_type": "code",
      "source": [
        "#bài toán 2:\n",
        "from numpy import linalg\n",
        "import numpy as np\n",
        "\n",
        "A = np.matrix([[0, -1, 3], [1, 1, 1], [4, 2, 2]])\n",
        "B = np.array([-1, -2, -2])\n",
        "X = np.linalg.solve(A, B)\n",
        "print(X)"
      ],
      "metadata": {
        "colab": {
          "base_uri": "https://localhost:8080/"
        },
        "id": "SzUUAy2Jo2SO",
        "outputId": "4cb558d6-0273-4cac-8a3a-e3dbb061a3cd"
      },
      "execution_count": 2,
      "outputs": [
        {
          "output_type": "stream",
          "name": "stdout",
          "text": [
            "[ 1. -2. -1.]\n"
          ]
        }
      ]
    },
    {
      "cell_type": "code",
      "source": [
        "#Bài toán 3:\n",
        "import numpy as np\n",
        "from numpy import linalg as LA\n",
        "# Khai báo 2 ma trận không khả nghịch\n",
        "A = np.matrix([[1, 0],  [0, 0]])\n",
        "B = np.matrix([[0, 0],     [0, 1]])\n",
        "#print(LA.inv(A))  #lỗi: ma trận A không khả nghịch\n",
        "#print(LA.inv(B))  # lỗi: ma trận B không khả nghịch\n",
        "print(LA.inv(A + B))\n",
        "print(\"det(A) =\", LA.det(A))\n",
        "print(\"det(B) =\", LA.det(B))\n",
        "print(\"det(A + B) =\", LA.det(A + B))\n"
      ],
      "metadata": {
        "colab": {
          "base_uri": "https://localhost:8080/"
        },
        "id": "-XK5U0DHpONd",
        "outputId": "e0a8154b-c94a-47ae-cb4b-d5a42b68f5f7"
      },
      "execution_count": 4,
      "outputs": [
        {
          "output_type": "stream",
          "name": "stdout",
          "text": [
            "[[1. 0.]\n",
            " [0. 1.]]\n",
            "det(A) = 0.0\n",
            "det(B) = 0.0\n",
            "det(A + B) = 1.0\n"
          ]
        }
      ]
    },
    {
      "cell_type": "code",
      "source": [
        "#Bài toán 4:\n",
        "import sympy as sp\n",
        "x, y = sp.symbols('x y')\n",
        "x1, y1 = sp.symbols('x1 y1')\n",
        "x2, y2 = sp.symbols('x2 y2')\n",
        "c = sp.symbols('c')\n",
        "A = sp.Matrix([[x, y], [y, x]])\n",
        "A1 = sp.Matrix([[x1, y1], [y1, x1]])\n",
        "A2 = sp.Matrix([[x2, y2], [y2, x2]])\n",
        "print(A1.T)\n",
        "print((A1 + A2).T)\n",
        "print(((A1 + A2).T).equals(A1 + A2))\n",
        "print(c * A)\n",
        "print(((c * A).T).equals(c * A))"
      ],
      "metadata": {
        "colab": {
          "base_uri": "https://localhost:8080/"
        },
        "id": "enmWJ-UxqX8e",
        "outputId": "3db07d04-174e-4320-d1d9-21dedadadb33"
      },
      "execution_count": 5,
      "outputs": [
        {
          "output_type": "stream",
          "name": "stdout",
          "text": [
            "Matrix([[x1, y1], [y1, x1]])\n",
            "Matrix([[x1 + x2, y1 + y2], [y1 + y2, x1 + x2]])\n",
            "True\n",
            "Matrix([[c*x, c*y], [c*y, c*x]])\n",
            "True\n"
          ]
        }
      ]
    },
    {
      "cell_type": "code",
      "source": [
        "#Bài toán 5:\n",
        "import numpy as np\n",
        "u = np.array([1, 2, 3])\n",
        "v = np.array([0, 1, 2])\n",
        "w = np.array([-1, 0, 1])\n",
        "b1 = np.array([1, 1, 1])\n",
        "A = np.column_stack((u, v, w))\n",
        "x1 = np.linalg.lstsq(A, b1, rcond=None)[0]\n",
        "print( x1)\n",
        "print(np.allclose(A @ x1, b1))\n",
        "b2 = np.array([1, -2, 2])\n",
        "x2 = np.linalg.lstsq(A, b2, rcond=None)[0]\n",
        "print( x2)\n",
        "print(np.allclose(A @ x2, b2))"
      ],
      "metadata": {
        "colab": {
          "base_uri": "https://localhost:8080/"
        },
        "id": "LDnl2czKq9s7",
        "outputId": "8e2c12b6-a025-40fa-9dc2-08496da4c378"
      },
      "execution_count": 6,
      "outputs": [
        {
          "output_type": "stream",
          "name": "stdout",
          "text": [
            "[ 5.0000000e-01  1.2490009e-16 -5.0000000e-01]\n",
            "True\n",
            "[0.08333333 0.16666667 0.25      ]\n",
            "False\n"
          ]
        }
      ]
    },
    {
      "cell_type": "code",
      "source": [
        "#Bài toán 6:\n",
        "import sympy as sp\n",
        "c1, c2, c3 = sp.symbols('c1 c2 c3')\n",
        "nghiem = sp.solve([c1 - 2*c3, 2*c1 + c2, 3*c1 + 2*c2 + c3], [c1, c2, c3])\n",
        "print(nghiem)\n"
      ],
      "metadata": {
        "colab": {
          "base_uri": "https://localhost:8080/"
        },
        "id": "NuLt1lm0rgHE",
        "outputId": "4aab8da4-0005-4123-9afa-b561a77a8dd6"
      },
      "execution_count": 7,
      "outputs": [
        {
          "output_type": "stream",
          "name": "stdout",
          "text": [
            "{c1: 0, c2: 0, c3: 0}\n"
          ]
        }
      ]
    },
    {
      "cell_type": "code",
      "source": [
        "#Bài toán 7:\n",
        "import sympy as sp\n",
        "c1, c2 = sp.symbols('c1 c2')\n",
        "u1, u2 = sp.symbols('u1 u2')\n",
        "print(sp.solve([c1 + c2 - u1, c1 - c2 - u2], [c1, c2]))\n",
        "u1 = 0\n",
        "u2 = 0\n",
        "print(sp.solve([c1 + c2 - u1, c1 - c2 - u2], [c1, c2]))"
      ],
      "metadata": {
        "colab": {
          "base_uri": "https://localhost:8080/"
        },
        "id": "Mn-6UjZ_r6ik",
        "outputId": "c5ffdbe7-a778-48a4-f2a6-c53d603b21b2"
      },
      "execution_count": 8,
      "outputs": [
        {
          "output_type": "stream",
          "name": "stdout",
          "text": [
            "{c1: u1/2 + u2/2, c2: u1/2 - u2/2}\n",
            "{c1: 0, c2: 0}\n"
          ]
        }
      ]
    },
    {
      "cell_type": "code",
      "source": [
        "#Bài 2:\n",
        "import numpy as np\n",
        "# a\n",
        "P = np.array([[0,0,3,3,1,1,2,2,1,1],[0,5,5,4,4,3,3,2,2,0]])\n",
        "vecdelta = np.array([4,2])\n",
        "P_caua = (P.T + vecdelta).T\n",
        "print(P_caua)\n",
        "# b\n",
        "P = np.array([[0,0,3,3,1,1,2,2,1,1],[0,5,5,4,4,3,3,2,2,0]])\n",
        "vecdelta = np.array([4,-2])\n",
        "matran_biendoi = np.array([[1.0, 0.0], [0.0, 2.0]])\n",
        "P_caub = (P.T @ matran_biendoi + vecdelta).T\n",
        "print(P_caub)\n",
        "# c\n",
        "vecdelta_c = np.array([4,2])\n",
        "matran_doi_xung = np.array([[-1, 0], [0, 1]])\n",
        "P_cauc = (P.T @ matran_doi_xung + vecdelta_c).T\n",
        "print( P_cauc)\n",
        "# d\n",
        "vecdelta_d = np.array([4, 2])\n",
        "matran_shear = np.array([[1, 1], [0, 1]])\n",
        "P_caud = (P.T @ matran_shear + vecdelta_d).T\n",
        "print(P_caud)"
      ],
      "metadata": {
        "colab": {
          "base_uri": "https://localhost:8080/"
        },
        "id": "cdgeIcadsNYU",
        "outputId": "a19ff581-293d-455a-bc6f-9fd044e7fe67"
      },
      "execution_count": 9,
      "outputs": [
        {
          "output_type": "stream",
          "name": "stdout",
          "text": [
            "[[4 4 7 7 5 5 6 6 5 5]\n",
            " [2 7 7 6 6 5 5 4 4 2]]\n",
            "[[ 4.  4.  7.  7.  5.  5.  6.  6.  5.  5.]\n",
            " [-2.  8.  8.  6.  6.  4.  4.  2.  2. -2.]]\n",
            "[[4 4 1 1 3 3 2 2 3 3]\n",
            " [2 7 7 6 6 5 5 4 4 2]]\n",
            "[[ 4  4  7  7  5  5  6  6  5  5]\n",
            " [ 2  7 10  9  7  6  7  6  5  3]]\n"
          ]
        }
      ]
    },
    {
      "cell_type": "code",
      "source": [
        "#lưu ý:\n",
        "import numpy as np\n",
        "P = np.array([[0,0,3,3,1,1,2,2,1,1],[0,5,5,4,4,3,3,2,2,0]])\n",
        "# Đối xứng qua đường thẳng y = 0\n",
        "matran_doi_xung_y0 = np.array([[-1, 0], [0, 1]])\n",
        "P_doi_xung_y0 = (P.T @ matran_doi_xung_y0).T\n",
        "print(P_doi_xung_y0)\n",
        "# Đối xứng qua đường thẳng y = x\n",
        "matran_doi_xung_yx = np.array([[0, 1], [1, 0]])\n",
        "P_doi_xung_yx = (P.T @ matran_doi_xung_yx).T\n",
        "print(P_doi_xung_yx)"
      ],
      "metadata": {
        "colab": {
          "base_uri": "https://localhost:8080/"
        },
        "id": "AyE6vEYCslnN",
        "outputId": "1bf78170-f95c-41a4-fec4-307f8a0a9578"
      },
      "execution_count": 10,
      "outputs": [
        {
          "output_type": "stream",
          "name": "stdout",
          "text": [
            "[[ 0  0 -3 -3 -1 -1 -2 -2 -1 -1]\n",
            " [ 0  5  5  4  4  3  3  2  2  0]]\n",
            "[[0 5 5 4 4 3 3 2 2 0]\n",
            " [0 0 3 3 1 1 2 2 1 1]]\n"
          ]
        }
      ]
    },
    {
      "cell_type": "code",
      "source": [
        "#Bài 3:\n",
        "#3.1\n",
        "import sympy as sp\n",
        "from sympy import lambdify\n",
        "x1, x2, x3 = sp.symbols('x1 x2 x3')\n",
        "bieuthuc1 = x1 - x2 + x3\n",
        "f1 = lambdify([x1, x2, x3], bieuthuc1, 'numpy')\n",
        "a, b, c = sp.symbols('a b c')\n",
        "d, e, f = sp.symbols('d e f')\n",
        "print(f1(a, b, c))\n",
        "print(f1(d, e, f))\n",
        "print(f1(a + d, b + e, c + f))\n",
        "print(f1(a, b, c) + f1(d, e, f) == f1(a + d, b + e, c + f))\n",
        "print((f1(a, b, c) + f1(d, e, f)).equals(f1(a + d, b + e, c + f)))\n",
        "q = sp.symbols('q')\n",
        "print((q*f1(a, b, c) + f1(d, e, f)).equals(f1(q*a + d, q*b + e, q*c + f).expand()))\n",
        "bieuthuc2 = 2*x2 + 3*x3\n",
        "f2 = lambdify([x1, x2, x3], bieuthuc2, 'numpy')\n",
        "print((q*f2(a, b, c) + f2(d, e, f)).equals(f2(q*a + d, q*b + e, q*c + f).expand()))"
      ],
      "metadata": {
        "colab": {
          "base_uri": "https://localhost:8080/"
        },
        "id": "UvqPAXThtEMb",
        "outputId": "ad93b9b7-525f-45b4-ff54-501d9302e91d"
      },
      "execution_count": 11,
      "outputs": [
        {
          "output_type": "stream",
          "name": "stdout",
          "text": [
            "a - b + c\n",
            "d - e + f\n",
            "a - b + c + d - e + f\n",
            "True\n",
            "True\n",
            "True\n",
            "True\n"
          ]
        }
      ]
    },
    {
      "cell_type": "code",
      "source": [
        "#3.2\n",
        "import sympy as sp\n",
        "a, b = sp.symbols('a b')\n",
        "eq1 = sp.Eq(1*a + 3*b, 4)\n",
        "eq2 = sp.Eq(2*a + 5*b, 5)\n",
        "nghiem = sp.solve([eq1, eq2], (a, b))\n",
        "print(\"Hệ số tổ hợp tuyến tính:\", nghiem)\n",
        "f_v1 = sp.Matrix([1,1,2])\n",
        "f_v2 = sp.Matrix([4,2,1])\n",
        "f_v3 = nghiem[a]*f_v1 + nghiem[b]*f_v2\n",
        "print(\"f(4,5) =\", f_v3)"
      ],
      "metadata": {
        "colab": {
          "base_uri": "https://localhost:8080/"
        },
        "id": "gPB-YMrYtcrT",
        "outputId": "37ef2e72-c4ac-4726-ce9b-2e22b282e489"
      },
      "execution_count": 13,
      "outputs": [
        {
          "output_type": "stream",
          "name": "stdout",
          "text": [
            "Hệ số tổ hợp tuyến tính: {a: -5, b: 3}\n",
            "f(4,5) = Matrix([[7], [1], [-7]])\n"
          ]
        }
      ]
    },
    {
      "cell_type": "code",
      "source": [
        "#3.3:\n",
        "import sympy as sp\n",
        "import numpy as np\n",
        "x, y = sp.symbols('x y')\n",
        "a = -5*x + 3*y\n",
        "b = 2*x - y\n",
        "fu1 = np.array([1, 1, 2])\n",
        "fu2 = np.array([4, 2, 1])\n",
        "fu = a*fu1 + b*fu2\n",
        "print(fu)\n",
        "fu = a.subs(a, -5*x + 3*y)*fu1 + b.subs(b, 2*x - y)*fu2\n",
        "print (fu)"
      ],
      "metadata": {
        "colab": {
          "base_uri": "https://localhost:8080/"
        },
        "id": "KHbtzyKVty3L",
        "outputId": "9eac7dae-0c36-49cd-931a-f1ba7f57d88e"
      },
      "execution_count": 15,
      "outputs": [
        {
          "output_type": "stream",
          "name": "stdout",
          "text": [
            "[3*x - y -x + y -8*x + 5*y]\n",
            "[3*x - y -x + y -8*x + 5*y]\n"
          ]
        }
      ]
    },
    {
      "cell_type": "code",
      "source": [
        "#3.4:\n",
        "import sympy as sp\n",
        "x1, x2, x3 = sp.symbols('x1 x2 x3')\n",
        "nghiem = sp.solve([x1 + x2 - x3, 2*x1 + 3*x2 - x3, 3*x1 + 5*x2 - x3], [x1, x2, x3])\n",
        "print(nghiem)"
      ],
      "metadata": {
        "colab": {
          "base_uri": "https://localhost:8080/"
        },
        "id": "hkPneGvqueZ7",
        "outputId": "4c0adfb1-ca87-492d-f7c4-c71899f8b3d9"
      },
      "execution_count": 16,
      "outputs": [
        {
          "output_type": "stream",
          "name": "stdout",
          "text": [
            "{x1: 2*x3, x2: -x3}\n"
          ]
        }
      ]
    },
    {
      "cell_type": "code",
      "source": [
        "import sympy as sp\n",
        "a1 = sp.Matrix([1, 2])\n",
        "a2 = sp.Matrix([1, 3])\n",
        "fv1 = sp.Matrix([-2, -1])\n",
        "fv2 = sp.Matrix([1, 1])\n",
        "c1, c2 = sp.symbols('c1 c2')\n",
        "d1, d2 = sp.symbols('d1 d2')\n",
        "he1 = sp.solve([\n",
        "    c1 * a1[0] + c2 * a2[0] - fv1[0],\n",
        "    c1 * a1[1] + c2 * a2[1] - fv1[1]], (c1, c2))\n",
        "he2 = sp.solve([\n",
        "    d1 * a1[0] + d2 * a2[0] - fv2[0],\n",
        "    d1 * a1[1] + d2 * a2[1] - fv2[1]\n",
        "], (d1, d2))\n",
        "A = sp.Matrix([[he1[c1], he2[d1]],[he1[c2], he2[d2]]])\n",
        "sp.pprint(A)"
      ],
      "metadata": {
        "colab": {
          "base_uri": "https://localhost:8080/"
        },
        "id": "QFakD7nzu8DF",
        "outputId": "b353f078-2ad2-4992-f895-e41b9f7012d1"
      },
      "execution_count": 17,
      "outputs": [
        {
          "output_type": "stream",
          "name": "stdout",
          "text": [
            "⎡-5  2 ⎤\n",
            "⎢      ⎥\n",
            "⎣3   -1⎦\n"
          ]
        }
      ]
    },
    {
      "cell_type": "code",
      "source": [
        "#Lưu ý: Cách tìm cơ sở trực giao của ma trận bằng numpy:\n",
        "import math\n",
        "from scipy import linalg as LA\n",
        "B = np.matrix([\n",
        "    [1.0 / math.sqrt(2), 1.0 / math.sqrt(2)],\n",
        "    [-1.0 / math.sqrt(2), 1.0 / math.sqrt(2)]])\n",
        "orth_basis = LA.orth(B)\n",
        "print(orth_basis)"
      ],
      "metadata": {
        "id": "JV0DGQVUvZ5k"
      },
      "execution_count": null,
      "outputs": []
    },
    {
      "cell_type": "code",
      "source": [
        "#Bài 4:\n",
        "import numpy as np\n",
        "import sympy as sp\n",
        "xs, ys = sp.symbols('xs ys')\n",
        "theta = sp.pi / 4\n",
        "cos_theta = sp.cos(theta)\n",
        "sin_theta = sp.sin(theta)\n",
        "x = (xs * cos_theta - ys * sin_theta).expand()\n",
        "y = (xs * sin_theta + ys * cos_theta).expand()\n",
        "expr = 5*x**2 - 6*x*y + 5*y**2 + 14*sp.sqrt(2)*x - 2*sp.sqrt(2)*y + 18\n",
        "expr_new = sp.simplify(expr)\n",
        "sp.pprint(expr_new.expand())"
      ],
      "metadata": {
        "colab": {
          "base_uri": "https://localhost:8080/"
        },
        "id": "nmZCQA3svwx6",
        "outputId": "5070a192-7ec4-4641-f913-4f5e986e7e4f"
      },
      "execution_count": 20,
      "outputs": [
        {
          "output_type": "stream",
          "name": "stdout",
          "text": [
            "    2               2             \n",
            "2⋅xs  + 12⋅xs + 8⋅ys  - 16⋅ys + 18\n"
          ]
        }
      ]
    },
    {
      "cell_type": "markdown",
      "source": [
        "**Bài Tập Chương**"
      ],
      "metadata": {
        "id": "04sbRaRiwQqz"
      }
    },
    {
      "cell_type": "code",
      "source": [
        "#Câu 1:\n",
        "import sympy as sp\n",
        "x, y, z = sp.symbols('x y z')\n",
        "a, b, c = sp.symbols('a b c')\n",
        "d, e, f = sp.symbols('d e f')\n",
        "k = sp.symbols('k')\n",
        "def g(u):\n",
        "    x, y, z = u\n",
        "    return (x + y, z + 2, 0)\n",
        "u = (a, b, c)\n",
        "v = (d, e, f)\n",
        "u_plus_v = tuple(sp.simplify(u[i] + v[i]) for i in range(3))\n",
        "g_u = g(u)\n",
        "g_v = g(v)\n",
        "g_u_plus_v = g(u_plus_v)\n",
        "g_u_plus_g_v = tuple(sp.simplify(g_u[i] + g_v[i]) for i in range(3))\n",
        "check_additivity = [sp.simplify(g_u_plus_v[i] - g_u_plus_g_v[i]) == 0 for i in range(3)]\n",
        "ku = tuple(sp.simplify(k * u[i]) for i in range(3))\n",
        "g_ku = g(ku)\n",
        "kg_u = tuple(sp.simplify(k * g_u[i]) for i in range(3))\n",
        "check_homogeneity = [sp.simplify(g_ku[i] - kg_u[i]) == 0 for i in range(3)]\n",
        "print(\"Kiểm tra tính cộng:\", check_additivity)\n",
        "print(\"Kiểm tra nhân vô hướng:\", check_homogeneity)"
      ],
      "metadata": {
        "colab": {
          "base_uri": "https://localhost:8080/"
        },
        "id": "rbdl4jTBwU1T",
        "outputId": "e6b383a1-9bb7-4875-a820-27c8cfaa82bc"
      },
      "execution_count": 22,
      "outputs": [
        {
          "output_type": "stream",
          "name": "stdout",
          "text": [
            "Kiểm tra tính cộng: [True, False, True]\n",
            "Kiểm tra nhân vô hướng: [True, False, True]\n"
          ]
        }
      ]
    },
    {
      "cell_type": "code",
      "source": [
        "import numpy as np\n",
        "import matplotlib.pyplot as plt\n",
        "F = np.array([[0, 0],[1, 0],[1, 1],[0, 1],[0, 0]])\n",
        "A = np.array([[0, 1], [1, -1]])\n",
        "F_trans = F @ A.T\n",
        "plt.plot(F[:, 0],        F[:, 1],        color='blue',  label='gốc')\n",
        "plt.plot(F_trans[:, 0],  F_trans[:, 1],  color='green', label='sau biến đổi')\n",
        "plt.axis('equal')\n",
        "plt.axhline(0, color='black', lw=0.5)\n",
        "plt.axvline(0, color='black', lw=0.5)\n",
        "plt.grid(True)\n",
        "plt.legend()\n",
        "plt.title('Biến đổi tuyến tính với ma trận [[0,1],[1,-1]]')\n",
        "plt.show()"
      ],
      "metadata": {
        "colab": {
          "base_uri": "https://localhost:8080/",
          "height": 454
        },
        "id": "0LSqx6GowrK5",
        "outputId": "3aba0713-308a-4699-9976-9a2b6036bfa6"
      },
      "execution_count": 25,
      "outputs": [
        {
          "output_type": "display_data",
          "data": {
            "text/plain": [
              "<Figure size 640x480 with 1 Axes>"
            ],
            "image/png": "[encoded data removed]"
          },
          "metadata": {}
        }
      ]
    },
    {
      "cell_type": "code",
      "source": [
        "#Câu 3:\n",
        "import sympy as sp\n",
        "v1, v2 = sp.symbols('v1 v2')\n",
        "a, b = sp.symbols('a b')\n",
        "T1 = v1 - v2\n",
        "T2 = v1 + 2*v2\n",
        "v1a, v2a = sp.symbols('v1a v2a')\n",
        "T_sum = [ (v1 + v1a) - (v2 + v2a), (v1 + v1a) + 2*(v2 + v2a) ]\n",
        "T_individual_sum = [T1 + (v1a - v2a), T2 + (v1a + 2*v2a)]\n",
        "print(sp.simplify(T_sum[0] - T_individual_sum[0]) == 0)\n",
        "print(sp.simplify(T_sum[1] - T_individual_sum[1]) == 0)\n",
        "T_scaled = [ a*(v1 - v2), a*(v1 + 2*v2) ]\n",
        "T_direct = [ (a*v1 - a*v2), (a*v1 + 2*a*v2) ]\n",
        "print(sp.simplify(T_scaled[0] - T_direct[0]) == 0)\n",
        "print(sp.simplify(T_scaled[1] - T_direct[1]) == 0)"
      ],
      "metadata": {
        "colab": {
          "base_uri": "https://localhost:8080/"
        },
        "id": "goPRhoNfxMlj",
        "outputId": "1e137180-963b-468f-9caf-74bada644149"
      },
      "execution_count": 23,
      "outputs": [
        {
          "output_type": "stream",
          "name": "stdout",
          "text": [
            "True\n",
            "True\n",
            "True\n",
            "True\n"
          ]
        }
      ]
    },
    {
      "cell_type": "code",
      "source": [
        "#Câu 4:\n",
        "import sympy as sp\n",
        "x, y = sp.symbols('x y', real=True)\n",
        "expr = 13*x**2 - 10*x*y + 13*y**2 - 72\n",
        "A = sp.Matrix([[13, -5],\n",
        "               [-5, 13]])\n",
        "eigs = A.eigenvects()\n",
        "lam1 = eigs[0][0]\n",
        "lam2 = eigs[1][0]\n",
        "v1 = eigs[0][2][0]\n",
        "v2 = eigs[1][2][0]\n",
        "P = sp.Matrix.hstack(v1/ sp.sqrt((v1.T*v1)[0]), v2/ sp.sqrt((v2.T*v2)[0]))\n",
        "xs, ys = sp.symbols('xs ys', real=True)\n",
        "subs_vec = P * sp.Matrix([xs, ys])\n",
        "x_sub, y_sub = subs_vec[0], subs_vec[1]\n",
        "expr_rot = sp.expand(expr.subs({x: x_sub, y: y_sub}))\n",
        "expr_rot = sp.collect(expr_rot, [xs, ys])\n",
        "expr_final = sp.factor(expr_rot / -72)\n",
        "print(\"Ma trận A =\")\n",
        "sp.pprint(A)\n",
        "print(\"\\nEigenvalues (λ1, λ2) =\", lam1, lam2)\n",
        "print(\"\\nMatrix P =\")\n",
        "sp.pprint(P)\n",
        "print(\"\\nPhương trình sau xoay (đã rút gọn):\")\n",
        "sp.pprint(expr_rot)\n",
        "print(\"\\nDạng chính tắc chia -72:\")\n",
        "sp.pprint(expr_final)\n"
      ],
      "metadata": {
        "colab": {
          "base_uri": "https://localhost:8080/"
        },
        "id": "_aG24lcjxd2T",
        "outputId": "2ea902f5-970b-4bc0-ef8d-6fb581d4bb30"
      },
      "execution_count": 24,
      "outputs": [
        {
          "output_type": "stream",
          "name": "stdout",
          "text": [
            "Ma trận A =\n",
            "⎡13  -5⎤\n",
            "⎢      ⎥\n",
            "⎣-5  13⎦\n",
            "\n",
            "Eigenvalues (λ1, λ2) = 8 18\n",
            "\n",
            "Matrix P =\n",
            "⎡√2  -√2 ⎤\n",
            "⎢──  ────⎥\n",
            "⎢2    2  ⎥\n",
            "⎢        ⎥\n",
            "⎢√2   √2 ⎥\n",
            "⎢──   ── ⎥\n",
            "⎣2    2  ⎦\n",
            "\n",
            "Phương trình sau xoay (đã rút gọn):\n",
            "    2        2     \n",
            "8⋅xs  + 18⋅ys  - 72\n",
            "\n",
            "Dạng chính tắc chia -72:\n",
            " ⎛    2       2     ⎞ \n",
            "-⎝4⋅xs  + 9⋅ys  - 36⎠ \n",
            "──────────────────────\n",
            "          36          \n"
          ]
        }
      ]
    }
  ]
}